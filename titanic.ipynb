{
  "nbformat": 4,
  "nbformat_minor": 0,
  "metadata": {
    "colab": {
      "name": "titanic.ipynb",
      "provenance": [],
      "collapsed_sections": []
    },
    "kernelspec": {
      "name": "python3",
      "display_name": "Python 3"
    },
    "language_info": {
      "name": "python"
    }
  },
  "cells": [
    {
      "cell_type": "markdown",
      "metadata": {
        "id": "_tiZyrWVJgze"
      },
      "source": [
        "Importing Libraries"
      ]
    },
    {
      "cell_type": "code",
      "metadata": {
        "id": "ViX37vRkH9TN"
      },
      "source": [
        "import numpy as np\n",
        "import pandas as pd\n",
        "import matplotlib.pyplot as plt"
      ],
      "execution_count": null,
      "outputs": []
    },
    {
      "cell_type": "markdown",
      "metadata": {
        "id": "jR3w8XvmJuht"
      },
      "source": [
        "Importing the dataset"
      ]
    },
    {
      "cell_type": "code",
      "metadata": {
        "id": "-BFKHL9LKSTd"
      },
      "source": [
        "train_dataset = pd.read_csv('train.csv')"
      ],
      "execution_count": null,
      "outputs": []
    },
    {
      "cell_type": "code",
      "metadata": {
        "colab": {
          "base_uri": "https://localhost:8080/",
          "height": 237
        },
        "id": "qdMdiAS3RKlF",
        "outputId": "63b4b77a-507f-4912-ac2c-09be4c6b5e86"
      },
      "source": [
        "train_dataset.head()"
      ],
      "execution_count": null,
      "outputs": [
        {
          "output_type": "execute_result",
          "data": {
            "text/html": [
              "<div>\n",
              "<style scoped>\n",
              "    .dataframe tbody tr th:only-of-type {\n",
              "        vertical-align: middle;\n",
              "    }\n",
              "\n",
              "    .dataframe tbody tr th {\n",
              "        vertical-align: top;\n",
              "    }\n",
              "\n",
              "    .dataframe thead th {\n",
              "        text-align: right;\n",
              "    }\n",
              "</style>\n",
              "<table border=\"1\" class=\"dataframe\">\n",
              "  <thead>\n",
              "    <tr style=\"text-align: right;\">\n",
              "      <th></th>\n",
              "      <th>PassengerId</th>\n",
              "      <th>Survived</th>\n",
              "      <th>Pclass</th>\n",
              "      <th>Name</th>\n",
              "      <th>Sex</th>\n",
              "      <th>Age</th>\n",
              "      <th>SibSp</th>\n",
              "      <th>Parch</th>\n",
              "      <th>Ticket</th>\n",
              "      <th>Fare</th>\n",
              "      <th>Cabin</th>\n",
              "      <th>Embarked</th>\n",
              "    </tr>\n",
              "  </thead>\n",
              "  <tbody>\n",
              "    <tr>\n",
              "      <th>0</th>\n",
              "      <td>1</td>\n",
              "      <td>0</td>\n",
              "      <td>3</td>\n",
              "      <td>Braund, Mr. Owen Harris</td>\n",
              "      <td>male</td>\n",
              "      <td>22.0</td>\n",
              "      <td>1</td>\n",
              "      <td>0</td>\n",
              "      <td>A/5 21171</td>\n",
              "      <td>7.2500</td>\n",
              "      <td>NaN</td>\n",
              "      <td>S</td>\n",
              "    </tr>\n",
              "    <tr>\n",
              "      <th>1</th>\n",
              "      <td>2</td>\n",
              "      <td>1</td>\n",
              "      <td>1</td>\n",
              "      <td>Cumings, Mrs. John Bradley (Florence Briggs Th...</td>\n",
              "      <td>female</td>\n",
              "      <td>38.0</td>\n",
              "      <td>1</td>\n",
              "      <td>0</td>\n",
              "      <td>PC 17599</td>\n",
              "      <td>71.2833</td>\n",
              "      <td>C85</td>\n",
              "      <td>C</td>\n",
              "    </tr>\n",
              "    <tr>\n",
              "      <th>2</th>\n",
              "      <td>3</td>\n",
              "      <td>1</td>\n",
              "      <td>3</td>\n",
              "      <td>Heikkinen, Miss. Laina</td>\n",
              "      <td>female</td>\n",
              "      <td>26.0</td>\n",
              "      <td>0</td>\n",
              "      <td>0</td>\n",
              "      <td>STON/O2. 3101282</td>\n",
              "      <td>7.9250</td>\n",
              "      <td>NaN</td>\n",
              "      <td>S</td>\n",
              "    </tr>\n",
              "    <tr>\n",
              "      <th>3</th>\n",
              "      <td>4</td>\n",
              "      <td>1</td>\n",
              "      <td>1</td>\n",
              "      <td>Futrelle, Mrs. Jacques Heath (Lily May Peel)</td>\n",
              "      <td>female</td>\n",
              "      <td>35.0</td>\n",
              "      <td>1</td>\n",
              "      <td>0</td>\n",
              "      <td>113803</td>\n",
              "      <td>53.1000</td>\n",
              "      <td>C123</td>\n",
              "      <td>S</td>\n",
              "    </tr>\n",
              "    <tr>\n",
              "      <th>4</th>\n",
              "      <td>5</td>\n",
              "      <td>0</td>\n",
              "      <td>3</td>\n",
              "      <td>Allen, Mr. William Henry</td>\n",
              "      <td>male</td>\n",
              "      <td>35.0</td>\n",
              "      <td>0</td>\n",
              "      <td>0</td>\n",
              "      <td>373450</td>\n",
              "      <td>8.0500</td>\n",
              "      <td>NaN</td>\n",
              "      <td>S</td>\n",
              "    </tr>\n",
              "  </tbody>\n",
              "</table>\n",
              "</div>"
            ],
            "text/plain": [
              "   PassengerId  Survived  Pclass  ...     Fare Cabin  Embarked\n",
              "0            1         0       3  ...   7.2500   NaN         S\n",
              "1            2         1       1  ...  71.2833   C85         C\n",
              "2            3         1       3  ...   7.9250   NaN         S\n",
              "3            4         1       1  ...  53.1000  C123         S\n",
              "4            5         0       3  ...   8.0500   NaN         S\n",
              "\n",
              "[5 rows x 12 columns]"
            ]
          },
          "metadata": {
            "tags": []
          },
          "execution_count": 19
        }
      ]
    },
    {
      "cell_type": "code",
      "metadata": {
        "colab": {
          "base_uri": "https://localhost:8080/"
        },
        "id": "Lys9d52wK5ng",
        "outputId": "9ee68ddc-d7ff-479e-faa6-41bf48b5090d"
      },
      "source": [
        "print(train_dataset)"
      ],
      "execution_count": null,
      "outputs": [
        {
          "output_type": "stream",
          "text": [
            "     PassengerId  Survived  Pclass  ...     Fare Cabin  Embarked\n",
            "0              1         0       3  ...   7.2500   NaN         S\n",
            "1              2         1       1  ...  71.2833   C85         C\n",
            "2              3         1       3  ...   7.9250   NaN         S\n",
            "3              4         1       1  ...  53.1000  C123         S\n",
            "4              5         0       3  ...   8.0500   NaN         S\n",
            "..           ...       ...     ...  ...      ...   ...       ...\n",
            "886          887         0       2  ...  13.0000   NaN         S\n",
            "887          888         1       1  ...  30.0000   B42         S\n",
            "888          889         0       3  ...  23.4500   NaN         S\n",
            "889          890         1       1  ...  30.0000  C148         C\n",
            "890          891         0       3  ...   7.7500   NaN         Q\n",
            "\n",
            "[891 rows x 12 columns]\n"
          ],
          "name": "stdout"
        }
      ]
    },
    {
      "cell_type": "code",
      "metadata": {
        "id": "Ehrg8Ms4LZot"
      },
      "source": [
        "X_train = train_dataset.drop(['Name'], axis = 1)"
      ],
      "execution_count": null,
      "outputs": []
    },
    {
      "cell_type": "code",
      "metadata": {
        "id": "mO_xugnPL4G7"
      },
      "source": [
        "X_train = X_train.drop(['Ticket'], axis = 1)\n",
        "X_train = X_train.drop(['Embarked'], axis = 1)\n",
        "X_train = X_train.drop(['Cabin'], axis = 1)"
      ],
      "execution_count": null,
      "outputs": []
    },
    {
      "cell_type": "code",
      "metadata": {
        "colab": {
          "base_uri": "https://localhost:8080/"
        },
        "id": "oguCGdZ5MYf5",
        "outputId": "63daa72b-0cb4-4d07-880b-c6a040e53461"
      },
      "source": [
        "print(X_train)"
      ],
      "execution_count": null,
      "outputs": [
        {
          "output_type": "stream",
          "text": [
            "     PassengerId  Survived  Pclass     Sex   Age  SibSp  Parch     Fare\n",
            "0              1         0       3    male  22.0      1      0   7.2500\n",
            "1              2         1       1  female  38.0      1      0  71.2833\n",
            "2              3         1       3  female  26.0      0      0   7.9250\n",
            "3              4         1       1  female  35.0      1      0  53.1000\n",
            "4              5         0       3    male  35.0      0      0   8.0500\n",
            "..           ...       ...     ...     ...   ...    ...    ...      ...\n",
            "886          887         0       2    male  27.0      0      0  13.0000\n",
            "887          888         1       1  female  19.0      0      0  30.0000\n",
            "888          889         0       3  female   NaN      1      2  23.4500\n",
            "889          890         1       1    male  26.0      0      0  30.0000\n",
            "890          891         0       3    male  32.0      0      0   7.7500\n",
            "\n",
            "[891 rows x 8 columns]\n"
          ],
          "name": "stdout"
        }
      ]
    },
    {
      "cell_type": "code",
      "metadata": {
        "colab": {
          "base_uri": "https://localhost:8080/"
        },
        "id": "tyJWexGYK6_O",
        "outputId": "314b74bc-ec26-4ce3-fffc-cdf034dff9ad"
      },
      "source": [
        "X_train = X_train.drop(['Survived'], axis = 1)\n",
        "X_train = X_train.iloc[:,:].values\n",
        "print(X_train)"
      ],
      "execution_count": null,
      "outputs": [
        {
          "output_type": "stream",
          "text": [
            "[[1 3 'male' ... 1 0 7.25]\n",
            " [2 1 'female' ... 1 0 71.2833]\n",
            " [3 3 'female' ... 0 0 7.925]\n",
            " ...\n",
            " [889 3 'female' ... 1 2 23.45]\n",
            " [890 1 'male' ... 0 0 30.0]\n",
            " [891 3 'male' ... 0 0 7.75]]\n"
          ],
          "name": "stdout"
        }
      ]
    },
    {
      "cell_type": "markdown",
      "metadata": {
        "id": "IIhA2O9sEirR"
      },
      "source": [
        "Categorical Encoding (One Hot Encoding)"
      ]
    },
    {
      "cell_type": "code",
      "metadata": {
        "id": "a84dGbOGFVv5"
      },
      "source": [
        "from sklearn.compose import ColumnTransformer\n",
        "from sklearn.preprocessing import OneHotEncoder\n",
        "ct = ColumnTransformer(transformers =[('encoder', OneHotEncoder(), [2])], remainder='passthrough')\n",
        "X_train = ct.fit_transform(X_train)"
      ],
      "execution_count": null,
      "outputs": []
    },
    {
      "cell_type": "code",
      "metadata": {
        "colab": {
          "base_uri": "https://localhost:8080/"
        },
        "id": "Aq7cA3tXMtJm",
        "outputId": "0d0107c8-29e9-4271-fb9b-2f0d9c40fd04"
      },
      "source": [
        "print(X_train[0])"
      ],
      "execution_count": null,
      "outputs": [
        {
          "output_type": "stream",
          "text": [
            "[0.0 1.0 1 3 22.0 1 0 7.25]\n"
          ],
          "name": "stdout"
        }
      ]
    },
    {
      "cell_type": "code",
      "metadata": {
        "colab": {
          "base_uri": "https://localhost:8080/"
        },
        "id": "6ehevlOoLUuj",
        "outputId": "01019af4-c513-4901-8088-816e866be13f"
      },
      "source": [
        "y_train = train_dataset.iloc[:,1].values\n",
        "print(y_train)"
      ],
      "execution_count": null,
      "outputs": [
        {
          "output_type": "stream",
          "text": [
            "[0 1 1 1 0 0 0 0 1 1 1 1 0 0 0 1 0 1 0 1 0 1 1 1 0 1 0 0 1 0 0 1 1 0 0 0 1\n",
            " 0 0 1 0 0 0 1 1 0 0 1 0 0 0 0 1 1 0 1 1 0 1 0 0 1 0 0 0 1 1 0 1 0 0 0 0 0\n",
            " 1 0 0 0 1 1 0 1 1 0 1 1 0 0 1 0 0 0 0 0 0 0 0 1 1 0 0 0 0 0 0 0 1 1 0 1 0\n",
            " 0 0 0 0 0 0 0 0 0 0 0 0 1 0 1 0 1 1 0 0 0 0 1 0 0 1 0 0 0 0 1 1 0 0 0 1 0\n",
            " 0 0 0 1 0 0 0 0 1 0 0 0 0 1 0 0 0 1 1 0 0 0 0 0 1 0 0 0 0 0 0 0 0 0 0 1 1\n",
            " 0 1 1 0 0 1 0 1 1 1 1 0 0 1 0 0 0 0 0 1 0 0 1 1 1 0 1 0 0 0 1 1 0 1 0 1 0\n",
            " 0 0 1 0 1 0 0 0 1 0 0 1 0 0 0 1 0 0 0 1 0 0 0 0 0 1 1 0 0 0 0 0 0 1 1 1 1\n",
            " 1 0 1 0 0 0 0 0 1 1 1 0 1 1 0 1 1 0 0 0 1 0 0 0 1 0 0 1 0 1 1 1 1 0 0 0 0\n",
            " 0 0 1 1 1 1 0 1 0 1 1 1 0 1 1 1 0 0 0 1 1 0 1 1 0 0 1 1 0 1 0 1 1 1 1 0 0\n",
            " 0 1 0 0 1 1 0 1 1 0 0 0 1 1 1 1 0 0 0 0 0 0 0 1 0 1 1 0 0 0 0 0 0 1 1 1 1\n",
            " 1 0 0 0 0 1 1 0 0 0 1 1 0 1 0 0 0 1 0 1 1 1 0 1 1 0 0 0 0 1 1 0 0 0 0 0 0\n",
            " 1 0 0 0 0 1 0 1 0 1 1 0 0 0 0 0 0 0 0 1 1 0 1 1 1 1 0 0 1 0 1 0 0 1 0 0 1\n",
            " 1 1 1 1 1 1 0 0 0 1 0 1 0 1 1 0 1 0 0 0 0 0 0 0 0 1 0 0 1 1 0 0 0 0 0 1 0\n",
            " 0 0 1 1 0 1 0 0 1 0 0 0 0 0 0 1 0 0 0 0 0 0 0 1 0 1 1 0 1 1 0 1 1 0 0 1 0\n",
            " 1 0 1 0 0 1 0 0 1 0 0 0 1 0 0 1 0 1 0 1 0 1 1 0 0 1 0 0 1 1 0 1 1 0 0 1 1\n",
            " 0 1 0 1 1 0 0 0 0 0 0 0 0 0 1 1 1 1 1 0 0 1 1 0 1 1 1 0 0 0 1 0 1 0 0 0 1\n",
            " 0 0 0 0 1 0 0 1 1 0 0 0 1 0 0 1 1 1 0 0 1 0 0 1 0 0 1 0 0 1 1 0 0 0 0 1 0\n",
            " 0 1 0 1 0 0 1 0 0 0 0 0 1 0 1 1 1 0 1 0 1 0 1 0 1 0 0 0 0 0 0 1 0 0 0 1 0\n",
            " 0 0 0 1 1 0 0 1 0 0 0 1 0 1 0 1 0 0 0 0 0 0 0 1 1 1 1 0 0 0 0 1 0 0 1 1 0\n",
            " 0 0 0 1 1 1 1 1 0 1 0 0 0 1 1 0 0 1 0 0 0 1 0 1 1 0 0 1 0 0 0 0 0 0 1 0 0\n",
            " 1 0 1 0 1 0 0 1 0 0 1 1 0 0 1 1 0 0 0 1 0 0 1 1 0 1 0 0 0 0 0 0 0 0 1 0 0\n",
            " 1 0 1 1 1 0 0 0 0 1 0 1 0 0 0 0 0 0 0 1 1 0 0 0 1 1 1 1 0 0 0 0 1 0 0 0 0\n",
            " 0 0 0 0 0 0 1 1 0 1 0 0 0 1 1 1 1 1 0 0 0 1 0 0 1 1 0 0 1 0 0 0 0 0 0 1 0\n",
            " 0 0 1 0 1 1 1 1 0 0 0 1 0 0 1 1 0 0 1 0 1 0 0 1 1 0 0 0 1 1 0 0 0 0 0 0 1\n",
            " 0 1 0]\n"
          ],
          "name": "stdout"
        }
      ]
    },
    {
      "cell_type": "markdown",
      "metadata": {
        "id": "dFv1WpBzPp3C"
      },
      "source": [
        "Handling Missing Vaues"
      ]
    },
    {
      "cell_type": "code",
      "metadata": {
        "colab": {
          "base_uri": "https://localhost:8080/"
        },
        "id": "4ACng8lhP6Hd",
        "outputId": "25a67620-44dd-4837-8f15-5f9450509455"
      },
      "source": [
        "train_dataset.isnull().sum()"
      ],
      "execution_count": null,
      "outputs": [
        {
          "output_type": "execute_result",
          "data": {
            "text/plain": [
              "PassengerId      0\n",
              "Survived         0\n",
              "Pclass           0\n",
              "Name             0\n",
              "Sex              0\n",
              "Age            177\n",
              "SibSp            0\n",
              "Parch            0\n",
              "Ticket           0\n",
              "Fare             0\n",
              "Cabin          687\n",
              "Embarked         2\n",
              "dtype: int64"
            ]
          },
          "metadata": {
            "tags": []
          },
          "execution_count": 35
        }
      ]
    },
    {
      "cell_type": "code",
      "metadata": {
        "id": "0jqYzd_NPOF_"
      },
      "source": [
        "from sklearn.impute import SimpleImputer\n",
        "imputer = SimpleImputer(missing_values = np.nan, strategy = 'mean')\n",
        "x = imputer.fit_transform(X_train[:,4].reshape(-1,1))\n",
        "X_train[:,4] = x.reshape(891,)"
      ],
      "execution_count": null,
      "outputs": []
    },
    {
      "cell_type": "code",
      "metadata": {
        "colab": {
          "base_uri": "https://localhost:8080/"
        },
        "id": "6Nep3VMqQ_0b",
        "outputId": "a8a6e88c-6a39-4d73-ef46-c92097118bd4"
      },
      "source": [
        "print(X_train)"
      ],
      "execution_count": null,
      "outputs": [
        {
          "output_type": "stream",
          "text": [
            "[[0.0 1.0 1 ... 1 0 7.25]\n",
            " [1.0 0.0 2 ... 1 0 71.2833]\n",
            " [1.0 0.0 3 ... 0 0 7.925]\n",
            " ...\n",
            " [1.0 0.0 889 ... 1 2 23.45]\n",
            " [0.0 1.0 890 ... 0 0 30.0]\n",
            " [0.0 1.0 891 ... 0 0 7.75]]\n"
          ],
          "name": "stdout"
        }
      ]
    },
    {
      "cell_type": "markdown",
      "metadata": {
        "id": "4N80bjANUWox"
      },
      "source": [
        "For Test Cases"
      ]
    },
    {
      "cell_type": "code",
      "metadata": {
        "colab": {
          "base_uri": "https://localhost:8080/"
        },
        "id": "f0g3XurJNoBk",
        "outputId": "d9c2e581-5014-4800-b1ae-c542c0523176"
      },
      "source": [
        "test_dataset = pd.read_csv('test.csv')\n",
        "print(test_dataset)"
      ],
      "execution_count": null,
      "outputs": [
        {
          "output_type": "stream",
          "text": [
            "     PassengerId  Pclass  ... Cabin Embarked\n",
            "0            892       3  ...   NaN        Q\n",
            "1            893       3  ...   NaN        S\n",
            "2            894       2  ...   NaN        Q\n",
            "3            895       3  ...   NaN        S\n",
            "4            896       3  ...   NaN        S\n",
            "..           ...     ...  ...   ...      ...\n",
            "413         1305       3  ...   NaN        S\n",
            "414         1306       1  ...  C105        C\n",
            "415         1307       3  ...   NaN        S\n",
            "416         1308       3  ...   NaN        S\n",
            "417         1309       3  ...   NaN        C\n",
            "\n",
            "[418 rows x 11 columns]\n"
          ],
          "name": "stdout"
        }
      ]
    },
    {
      "cell_type": "code",
      "metadata": {
        "id": "CyWWLpIAUg6A"
      },
      "source": [
        "X_test = test_dataset.drop(['Name'], axis = 1)\n",
        "X_test = X_test.drop(['Ticket'], axis = 1)\n",
        "X_test = X_test.drop(['Embarked'], axis = 1)\n",
        "X_test = X_test.drop(['Cabin'], axis = 1)"
      ],
      "execution_count": null,
      "outputs": []
    },
    {
      "cell_type": "code",
      "metadata": {
        "colab": {
          "base_uri": "https://localhost:8080/"
        },
        "id": "o8JGBZNpU7hZ",
        "outputId": "dfb42b73-0332-4e0d-9257-bdd2170a0852"
      },
      "source": [
        "print(X_test)"
      ],
      "execution_count": null,
      "outputs": [
        {
          "output_type": "stream",
          "text": [
            "     PassengerId  Pclass     Sex   Age  SibSp  Parch      Fare\n",
            "0            892       3    male  34.5      0      0    7.8292\n",
            "1            893       3  female  47.0      1      0    7.0000\n",
            "2            894       2    male  62.0      0      0    9.6875\n",
            "3            895       3    male  27.0      0      0    8.6625\n",
            "4            896       3  female  22.0      1      1   12.2875\n",
            "..           ...     ...     ...   ...    ...    ...       ...\n",
            "413         1305       3    male   NaN      0      0    8.0500\n",
            "414         1306       1  female  39.0      0      0  108.9000\n",
            "415         1307       3    male  38.5      0      0    7.2500\n",
            "416         1308       3    male   NaN      0      0    8.0500\n",
            "417         1309       3    male   NaN      1      1   22.3583\n",
            "\n",
            "[418 rows x 7 columns]\n"
          ],
          "name": "stdout"
        }
      ]
    },
    {
      "cell_type": "code",
      "metadata": {
        "colab": {
          "base_uri": "https://localhost:8080/"
        },
        "id": "SG6nFQvMY7Nh",
        "outputId": "638af73b-0228-41b1-e761-fbdd1b3a84e7"
      },
      "source": [
        "X_test.isnull().sum()"
      ],
      "execution_count": null,
      "outputs": [
        {
          "output_type": "execute_result",
          "data": {
            "text/plain": [
              "PassengerId     0\n",
              "Pclass          0\n",
              "Sex             0\n",
              "Age            86\n",
              "SibSp           0\n",
              "Parch           0\n",
              "Fare            1\n",
              "dtype: int64"
            ]
          },
          "metadata": {
            "tags": []
          },
          "execution_count": 74
        }
      ]
    },
    {
      "cell_type": "code",
      "metadata": {
        "id": "2HT1KYjDVw-2"
      },
      "source": [
        "X_test = X_test.iloc[:,:].values"
      ],
      "execution_count": null,
      "outputs": []
    },
    {
      "cell_type": "code",
      "metadata": {
        "id": "9TTdh7POVE8x"
      },
      "source": [
        "#ct = ColumnTransformer(transformers =[('encoder', OneHotEncoder(), [2])], remainder='passthrough')\n",
        "X_test = ct.fit_transform(X_test)"
      ],
      "execution_count": null,
      "outputs": []
    },
    {
      "cell_type": "code",
      "metadata": {
        "colab": {
          "base_uri": "https://localhost:8080/"
        },
        "id": "lnaRU8YAVg7A",
        "outputId": "359c5401-b60f-4e78-e745-0b4186a6e1c1"
      },
      "source": [
        "print(X_test[0])"
      ],
      "execution_count": null,
      "outputs": [
        {
          "output_type": "stream",
          "text": [
            "[0.0 1.0 892 3 34.5 0 0 7.8292]\n"
          ],
          "name": "stdout"
        }
      ]
    },
    {
      "cell_type": "code",
      "metadata": {
        "id": "NEtkFiSxXtvv"
      },
      "source": [
        "x1 = imputer.fit_transform(X_test[:,4].reshape(-1,1))\n",
        "x2 = imputer.fit_transform(X_test[:-1].reshape(-1,1))"
      ],
      "execution_count": null,
      "outputs": []
    },
    {
      "cell_type": "code",
      "metadata": {
        "id": "I39BLf46X_9S"
      },
      "source": [
        "X_test[:,4] = x.reshape(418,)\n",
        "X_test[:,-1] = x.reshape(418,)"
      ],
      "execution_count": null,
      "outputs": []
    },
    {
      "cell_type": "code",
      "metadata": {
        "colab": {
          "base_uri": "https://localhost:8080/"
        },
        "id": "aZTPZix0OkhU",
        "outputId": "e18129eb-860f-4f41-fe1a-ebd5e91c4edb"
      },
      "source": [
        "print(X_test)"
      ],
      "execution_count": null,
      "outputs": [
        {
          "output_type": "stream",
          "text": [
            "[[0.0 1.0 892 ... 0 0 34.5]\n",
            " [1.0 0.0 893 ... 1 0 47.0]\n",
            " [0.0 1.0 894 ... 0 0 62.0]\n",
            " ...\n",
            " [0.0 1.0 1307 ... 0 0 38.5]\n",
            " [0.0 1.0 1308 ... 0 0 30.272590361445783]\n",
            " [0.0 1.0 1309 ... 1 1 30.272590361445783]]\n"
          ],
          "name": "stdout"
        }
      ]
    },
    {
      "cell_type": "code",
      "metadata": {
        "id": "Id30sj3_uEnt",
        "colab": {
          "base_uri": "https://localhost:8080/"
        },
        "outputId": "9477285f-ab1c-4ee0-89e2-b1924646341a"
      },
      "source": [
        "print(X_test[:,2][4])"
      ],
      "execution_count": null,
      "outputs": [
        {
          "output_type": "stream",
          "text": [
            "896\n"
          ],
          "name": "stdout"
        }
      ]
    },
    {
      "cell_type": "markdown",
      "metadata": {
        "id": "N6pRrcF9eYZM"
      },
      "source": [
        "Training Model on Training Set"
      ]
    },
    {
      "cell_type": "code",
      "metadata": {
        "colab": {
          "base_uri": "https://localhost:8080/"
        },
        "id": "Kenuy75EddP1",
        "outputId": "5f66833f-92e9-4934-cdcd-11b7561c39d7"
      },
      "source": [
        "from sklearn.linear_model import LinearRegression\n",
        "regressor = LinearRegression()\n",
        "regressor.fit(X_train,y_train)"
      ],
      "execution_count": null,
      "outputs": [
        {
          "output_type": "execute_result",
          "data": {
            "text/plain": [
              "LinearRegression(copy_X=True, fit_intercept=True, n_jobs=None, normalize=False)"
            ]
          },
          "metadata": {
            "tags": []
          },
          "execution_count": 63
        }
      ]
    },
    {
      "cell_type": "code",
      "metadata": {
        "colab": {
          "base_uri": "https://localhost:8080/"
        },
        "id": "aKPnsGP2fiWg",
        "outputId": "3c463a56-845c-4bc2-fd3d-f18d6f43dea8"
      },
      "source": [
        "y_pred = regressor.predict(X_test)\n",
        "print(y_pred)"
      ],
      "execution_count": null,
      "outputs": [
        {
          "output_type": "stream",
          "text": [
            "[ 9.32293520e-02  4.94379909e-01  1.13000684e-01  1.34211703e-01\n",
            "  6.10871915e-01  2.05215450e-01  6.30477252e-01  2.46353693e-01\n",
            "  6.96020727e-01  8.05895547e-02  1.16413185e-01  3.70364586e-01\n",
            "  9.65354816e-01  6.44293393e-02  8.34328481e-01  7.90016230e-01\n",
            "  2.60569475e-01  1.67114771e-01  6.03757100e-01  5.48704496e-01\n",
            "  2.78090856e-01  2.12633337e-01  9.68967714e-01  4.86947513e-01\n",
            "  7.68833892e-01 -3.43745100e-02  9.94133607e-01  1.59025387e-01\n",
            "  3.97837689e-01  3.01607328e-02  1.35584622e-01  2.34339611e-01\n",
            "  5.31046671e-01  5.45949173e-01  4.14739102e-01  1.80947296e-01\n",
            "  6.29291907e-01  6.79932879e-01  1.45485832e-01  1.16706154e-01\n",
            "  4.90171085e-02  4.56543600e-01  5.81618820e-02  8.00759662e-01\n",
            "  8.45552098e-01  1.45556549e-01  3.76178443e-01  1.16786974e-01\n",
            "  8.06910620e-01  5.58059793e-01  4.47662376e-01  3.04605239e-01\n",
            "  7.48963797e-01  8.11933028e-01  2.86766311e-01  3.46277516e-02\n",
            "  9.10649506e-02  1.45677778e-01  7.36759014e-02  9.38068286e-01\n",
            "  1.89390265e-01  2.77404901e-01  1.83950197e-01  6.74735269e-01\n",
            "  4.24554381e-01  7.99493497e-01  6.96606666e-01  3.65470048e-01\n",
            "  4.52844510e-01  6.83720117e-01  6.63885441e-01  1.67660301e-01\n",
            "  6.36604283e-01  4.66545704e-01  9.43680094e-01  4.44724818e-01\n",
            "  1.17079944e-01  7.48060554e-01  2.88497186e-01  6.63976363e-01\n",
            "  1.86387998e-01  2.13183834e-01  3.54701039e-01  1.17150660e-01\n",
            "  2.87069383e-01  7.39486664e-02  6.47666262e-01  6.96818817e-01\n",
            "  6.29817232e-01  3.78228630e-01  6.31785835e-01  1.17231480e-01\n",
            "  9.04231691e-01  1.17251684e-01  4.85868808e-01  1.46061669e-01\n",
            "  6.76808977e-01  1.24240784e-01  6.86009398e-01  1.02419899e-01\n",
            "  8.57038378e-01  2.61888160e-01  1.17342606e-01  1.40682216e-01\n",
            "  6.44643790e-01  1.29781876e-01  1.68013886e-01  1.17393118e-01\n",
            "  1.17403221e-01  3.51603495e-01  2.28757466e-01  6.30049587e-01\n",
            "  9.38603713e-01  6.94351343e-01  7.47974362e-01  1.41263426e-01\n",
            "  1.17484040e-01  7.26679209e-01  4.26048268e-01  7.63765518e-01\n",
            "  8.99822452e-01  7.43123531e-02  9.00942811e-01  1.29963719e-01\n",
            "  1.17564859e-01  6.82617867e-01  1.62755661e-01  5.43766828e-01\n",
            "  2.23479037e-01  1.51865424e-01  1.08193346e-01  3.33354967e-01\n",
            "  5.50081283e-01  7.44335820e-02  4.81707585e-02  1.51926038e-01\n",
            "  1.38285459e-01  3.10934318e-01  6.70032677e-01 -9.88907926e-02\n",
            "  4.84835203e-01  9.55277501e-01  1.86426374e-01  3.00074388e-01\n",
            "  3.93549296e-01 -1.58614415e-02  4.57604353e-01  1.62967812e-01\n",
            "  4.57624558e-01  2.25947145e-01  9.89926033e-01  1.17837624e-01\n",
            " -4.72021666e-02  5.59110444e-01 -7.98041161e-04  1.52128086e-01\n",
            "  9.77270127e-01  6.70224623e-01  3.93690730e-01  6.13773783e-01\n",
            "  6.30544605e-01  1.81746020e-01  8.23802938e-01  1.17958853e-01\n",
            "  2.29302996e-01  5.90657312e-01  3.61009914e-01  5.84763252e-02\n",
            "  9.70442665e-01  6.75806124e-01  1.18029570e-01  1.35908907e-01\n",
            "  1.14537901e-01  1.18059877e-01 -7.84920947e-02  8.43907039e-01\n",
            "  8.56706007e-01  2.85137207e-01  7.09226511e-01  7.46302718e-01\n",
            "  2.89527632e-01  3.57957135e-01  9.94373588e-01  1.18160901e-01\n",
            "  9.25206227e-01  2.34975419e-01  8.31301645e-01  1.04228873e-01\n",
            "  2.44959655e-01  2.35015829e-01  2.24565367e-01  4.58058961e-01\n",
            "  1.57487969e-01  1.20390516e-01  3.69704833e-01  1.03389730e-01\n",
            "  5.50554203e-01  6.97930082e-01  3.27931383e-01  6.30938599e-01\n",
            "  6.30948701e-01  2.41747219e-01  3.23611674e-01  8.59234729e-01\n",
            "  3.17071452e-01  4.58200395e-01  6.05196371e-01  3.22562032e-01\n",
            "  9.55954362e-01  1.47213344e-01  1.09001539e-01  1.18443769e-01\n",
            "  3.60834451e-01  5.95446698e-01  3.75917351e-01  3.94266567e-01\n",
            "  6.31110340e-01  2.49115372e-01  7.99963441e-01  1.18524588e-01\n",
            "  7.59325589e-01  1.69175663e-01  8.46250172e-01  1.69195867e-01\n",
            "  8.46910551e-01  5.91111034e-01  1.58305630e-01  6.31221466e-01\n",
            "  6.27710661e-02  2.57261015e-01  3.77397112e-01  1.02170999e+00\n",
            "  1.26064590e-01  1.18666021e-01  3.67617131e-01  1.74777369e-01\n",
            "  2.31130524e-01  1.74797574e-01  8.04985588e-01  8.31141251e-01\n",
            "  8.36151644e-01  6.80765624e-01  3.14891202e-01  1.18767046e-01\n",
            "  3.54647220e-02  3.56807713e-01  8.46492630e-01  1.61413911e-01\n",
            "  7.65068729e-01  5.88221521e-01  8.78323158e-01  1.74939007e-01\n",
            "  4.33322245e-01  1.53118122e-01  1.06715909e-01  1.18888274e-01\n",
            "  1.18898377e-01  1.31317442e-01  8.62994677e-01  1.69559554e-01\n",
            "  4.17132343e-02  1.69579759e-01  7.68342134e-01  7.28154160e-01\n",
            "  2.90376234e-01  1.18989299e-01  4.58816642e-01  1.19009503e-01\n",
            "  6.31635665e-01  1.91501668e-01  3.72981109e-01  1.19049913e-01\n",
            "  9.51600625e-01  5.88463978e-01  1.19080220e-01  8.14483946e-01\n",
            "  3.01418008e-01  1.92682642e-01  2.47295469e-01  3.34209950e-01\n",
            "  6.71467219e-01  2.17085012e-01  6.31777099e-01  6.84674029e-01\n",
            "  7.22906038e-01  8.79181295e-02  1.19201449e-01  4.50056646e-01\n",
            "  1.19221654e-01  1.19231756e-01  4.59059100e-01  6.33356438e-01\n",
            "  1.19262064e-01  2.71724245e-01  8.80090511e-02  1.42621878e-01\n",
            "  8.78351047e-01  3.28681781e-02  4.60628337e-01  1.26281471e-01\n",
            "  1.09910755e-01  2.89261606e-01  1.99731470e-01  1.53623243e-01\n",
            "  6.31999352e-01  7.24398536e-01  3.77396730e-01  2.60133052e-01\n",
            "  2.60955236e-01  5.08411996e-01  1.86455594e-01  1.64624607e-01\n",
            "  1.19464112e-01  5.95356784e-01  8.36899222e-01  7.04582438e-01\n",
            "  2.70160624e-01  3.50974659e-01  1.37393961e-01  2.48169649e-01\n",
            "  1.42874439e-01  1.48344813e-01  3.12803264e-01  4.44500079e-01\n",
            "  9.24364606e-01  1.59305768e-01  7.95414036e-01  3.73556947e-01\n",
            "  2.53260862e-01  3.40175343e-01  6.65283921e-01  4.11819264e-01\n",
            "  1.19666160e-01  6.30576424e-01  1.37555600e-01  4.61002126e-01\n",
            "  2.80183063e-01  3.19724099e-02  3.18425175e-01  1.19736877e-01\n",
            "  3.56667287e-01  1.10324954e-01 -1.03861038e-01  8.00766261e-01\n",
            "  5.65200764e-02  7.10345783e-01  3.13045722e-01  5.90239993e-01\n",
            "  3.23986471e-01  7.98390726e-01  8.71820520e-01  3.18556506e-01\n",
            "  3.56788516e-01  1.04217745e-01  7.13560392e-01  3.51998724e-01\n",
            "  7.29038036e-01  1.19918720e-01  1.19928822e-01  5.90821203e-01\n",
            " -1.79796149e-01  7.73466550e-01  7.98522057e-01  1.37848570e-01\n",
            "  9.57990319e-01  4.08987377e-01  7.67874430e-02  6.77806401e-01\n",
            "  8.72002364e-01  2.96897260e-01  2.97367343e-01  9.68521599e-01\n",
            "  3.57630738e-01  2.15033582e-01  7.79698327e-01  8.92118194e-01\n",
            "  5.91452925e-01  3.40660259e-01  3.24929717e-01  4.51571804e-02\n",
            "  1.20151075e-01  1.43490685e-01  6.32787340e-01  6.51126658e-01\n",
            "  2.90100106e-01  7.53663894e-01  1.54461742e-01  1.44191473e-01\n",
            "  1.70862765e-01  1.03065244e-01  4.99779665e-01  8.39473084e-01\n",
            "  1.74495127e-01  1.98854813e-01 -2.24705106e-02  9.96525401e-01\n",
            "  1.54562766e-01  8.12692317e-01  1.65503516e-01  1.16371166e-01\n",
            "  9.74274842e-01  2.04855885e-01  9.97932113e-01  5.32672632e-01\n",
            "  3.47493451e-01  3.46403399e-01  2.86810485e-01  2.89256737e-01\n",
            "  6.33050002e-01  7.18708567e-01  6.33070207e-01  8.92941862e-01\n",
            "  6.45499375e-01  1.20484455e-01  9.25273823e-01  7.55807612e-02\n",
            "  1.20514762e-01  5.72575521e-02]\n"
          ],
          "name": "stdout"
        }
      ]
    },
    {
      "cell_type": "code",
      "metadata": {
        "colab": {
          "base_uri": "https://localhost:8080/"
        },
        "id": "ViblSaHPYR2q",
        "outputId": "ec2b08d5-59f6-4f05-d7d7-c601573c9c8d"
      },
      "source": [
        "for i in range(0,len(y_pred)):\n",
        "  if y_pred[i] < 0.5:\n",
        "    y_pred[i]= int(0)\n",
        "  else:\n",
        "    y_pred[i] = int(1)\n",
        "print(y_pred)"
      ],
      "execution_count": null,
      "outputs": [
        {
          "output_type": "stream",
          "text": [
            "[0. 0. 0. 0. 1. 0. 1. 0. 1. 0. 0. 0. 1. 0. 1. 1. 0. 0. 1. 1. 0. 0. 1. 0.\n",
            " 1. 0. 1. 0. 0. 0. 0. 0. 1. 1. 0. 0. 1. 1. 0. 0. 0. 0. 0. 1. 1. 0. 0. 0.\n",
            " 1. 1. 0. 0. 1. 1. 0. 0. 0. 0. 0. 1. 0. 0. 0. 1. 0. 1. 1. 0. 0. 1. 1. 0.\n",
            " 1. 0. 1. 0. 0. 1. 0. 1. 0. 0. 0. 0. 0. 0. 1. 1. 1. 0. 1. 0. 1. 0. 0. 0.\n",
            " 1. 0. 1. 0. 1. 0. 0. 0. 1. 0. 0. 0. 0. 0. 0. 1. 1. 1. 1. 0. 0. 1. 0. 1.\n",
            " 1. 0. 1. 0. 0. 1. 0. 1. 0. 0. 0. 0. 1. 0. 0. 0. 0. 0. 1. 0. 0. 1. 0. 0.\n",
            " 0. 0. 0. 0. 0. 0. 1. 0. 0. 1. 0. 0. 1. 1. 0. 1. 1. 0. 1. 0. 0. 1. 0. 0.\n",
            " 1. 1. 0. 0. 0. 0. 0. 1. 1. 0. 1. 1. 0. 0. 1. 0. 1. 0. 1. 0. 0. 0. 0. 0.\n",
            " 0. 0. 0. 0. 1. 1. 0. 1. 1. 0. 0. 1. 0. 0. 1. 0. 1. 0. 0. 0. 0. 1. 0. 0.\n",
            " 1. 0. 1. 0. 1. 0. 1. 0. 1. 1. 0. 1. 0. 0. 0. 1. 0. 0. 0. 0. 0. 0. 1. 1.\n",
            " 1. 1. 0. 0. 0. 0. 1. 0. 1. 1. 1. 0. 0. 0. 0. 0. 0. 0. 1. 0. 0. 0. 1. 1.\n",
            " 0. 0. 0. 0. 1. 0. 0. 0. 1. 1. 0. 1. 0. 0. 0. 0. 1. 0. 1. 1. 1. 0. 0. 0.\n",
            " 0. 0. 0. 1. 0. 0. 0. 0. 1. 0. 0. 0. 0. 0. 0. 0. 1. 1. 0. 0. 0. 1. 0. 0.\n",
            " 0. 1. 1. 1. 0. 0. 0. 0. 0. 0. 0. 0. 1. 0. 1. 0. 0. 0. 1. 0. 0. 1. 0. 0.\n",
            " 0. 0. 0. 0. 0. 0. 0. 1. 0. 1. 0. 1. 0. 1. 1. 0. 0. 0. 1. 0. 1. 0. 0. 1.\n",
            " 0. 1. 1. 0. 1. 0. 0. 1. 1. 0. 0. 1. 0. 0. 1. 1. 1. 0. 0. 0. 0. 0. 1. 1.\n",
            " 0. 1. 0. 0. 0. 0. 0. 1. 0. 0. 0. 1. 0. 1. 0. 0. 1. 0. 1. 1. 0. 0. 0. 0.\n",
            " 1. 1. 1. 1. 1. 0. 1. 0. 0. 0.]\n"
          ],
          "name": "stdout"
        }
      ]
    },
    {
      "cell_type": "code",
      "metadata": {
        "id": "SmHqBIZKi73c"
      },
      "source": [
        "new_set = []"
      ],
      "execution_count": null,
      "outputs": []
    },
    {
      "cell_type": "code",
      "metadata": {
        "colab": {
          "base_uri": "https://localhost:8080/"
        },
        "id": "KX2w_KMLkeZU",
        "outputId": "c4e440e9-4cf0-4fe7-d06b-f0a5fb8cefc4"
      },
      "source": [
        "for i in range(0,len(y_pred)):\n",
        "  n_list = []\n",
        "  n_list.append(X_test[:,2][i])\n",
        "  n_list.append(y_pred[i])\n",
        "  new_set.append(n_list)\n",
        "print(new_set)"
      ],
      "execution_count": null,
      "outputs": [
        {
          "output_type": "stream",
          "text": [
            "[[892, 0.0], [893, 0.0], [894, 0.0], [895, 0.0], [896, 1.0], [897, 0.0], [898, 1.0], [899, 0.0], [900, 1.0], [901, 0.0], [902, 0.0], [903, 0.0], [904, 1.0], [905, 0.0], [906, 1.0], [907, 1.0], [908, 0.0], [909, 0.0], [910, 1.0], [911, 1.0], [912, 0.0], [913, 0.0], [914, 1.0], [915, 0.0], [916, 1.0], [917, 0.0], [918, 1.0], [919, 0.0], [920, 0.0], [921, 0.0], [922, 0.0], [923, 0.0], [924, 1.0], [925, 1.0], [926, 0.0], [927, 0.0], [928, 1.0], [929, 1.0], [930, 0.0], [931, 0.0], [932, 0.0], [933, 0.0], [934, 0.0], [935, 1.0], [936, 1.0], [937, 0.0], [938, 0.0], [939, 0.0], [940, 1.0], [941, 1.0], [942, 0.0], [943, 0.0], [944, 1.0], [945, 1.0], [946, 0.0], [947, 0.0], [948, 0.0], [949, 0.0], [950, 0.0], [951, 1.0], [952, 0.0], [953, 0.0], [954, 0.0], [955, 1.0], [956, 0.0], [957, 1.0], [958, 1.0], [959, 0.0], [960, 0.0], [961, 1.0], [962, 1.0], [963, 0.0], [964, 1.0], [965, 0.0], [966, 1.0], [967, 0.0], [968, 0.0], [969, 1.0], [970, 0.0], [971, 1.0], [972, 0.0], [973, 0.0], [974, 0.0], [975, 0.0], [976, 0.0], [977, 0.0], [978, 1.0], [979, 1.0], [980, 1.0], [981, 0.0], [982, 1.0], [983, 0.0], [984, 1.0], [985, 0.0], [986, 0.0], [987, 0.0], [988, 1.0], [989, 0.0], [990, 1.0], [991, 0.0], [992, 1.0], [993, 0.0], [994, 0.0], [995, 0.0], [996, 1.0], [997, 0.0], [998, 0.0], [999, 0.0], [1000, 0.0], [1001, 0.0], [1002, 0.0], [1003, 1.0], [1004, 1.0], [1005, 1.0], [1006, 1.0], [1007, 0.0], [1008, 0.0], [1009, 1.0], [1010, 0.0], [1011, 1.0], [1012, 1.0], [1013, 0.0], [1014, 1.0], [1015, 0.0], [1016, 0.0], [1017, 1.0], [1018, 0.0], [1019, 1.0], [1020, 0.0], [1021, 0.0], [1022, 0.0], [1023, 0.0], [1024, 1.0], [1025, 0.0], [1026, 0.0], [1027, 0.0], [1028, 0.0], [1029, 0.0], [1030, 1.0], [1031, 0.0], [1032, 0.0], [1033, 1.0], [1034, 0.0], [1035, 0.0], [1036, 0.0], [1037, 0.0], [1038, 0.0], [1039, 0.0], [1040, 0.0], [1041, 0.0], [1042, 1.0], [1043, 0.0], [1044, 0.0], [1045, 1.0], [1046, 0.0], [1047, 0.0], [1048, 1.0], [1049, 1.0], [1050, 0.0], [1051, 1.0], [1052, 1.0], [1053, 0.0], [1054, 1.0], [1055, 0.0], [1056, 0.0], [1057, 1.0], [1058, 0.0], [1059, 0.0], [1060, 1.0], [1061, 1.0], [1062, 0.0], [1063, 0.0], [1064, 0.0], [1065, 0.0], [1066, 0.0], [1067, 1.0], [1068, 1.0], [1069, 0.0], [1070, 1.0], [1071, 1.0], [1072, 0.0], [1073, 0.0], [1074, 1.0], [1075, 0.0], [1076, 1.0], [1077, 0.0], [1078, 1.0], [1079, 0.0], [1080, 0.0], [1081, 0.0], [1082, 0.0], [1083, 0.0], [1084, 0.0], [1085, 0.0], [1086, 0.0], [1087, 0.0], [1088, 1.0], [1089, 1.0], [1090, 0.0], [1091, 1.0], [1092, 1.0], [1093, 0.0], [1094, 0.0], [1095, 1.0], [1096, 0.0], [1097, 0.0], [1098, 1.0], [1099, 0.0], [1100, 1.0], [1101, 0.0], [1102, 0.0], [1103, 0.0], [1104, 0.0], [1105, 1.0], [1106, 0.0], [1107, 0.0], [1108, 1.0], [1109, 0.0], [1110, 1.0], [1111, 0.0], [1112, 1.0], [1113, 0.0], [1114, 1.0], [1115, 0.0], [1116, 1.0], [1117, 1.0], [1118, 0.0], [1119, 1.0], [1120, 0.0], [1121, 0.0], [1122, 0.0], [1123, 1.0], [1124, 0.0], [1125, 0.0], [1126, 0.0], [1127, 0.0], [1128, 0.0], [1129, 0.0], [1130, 1.0], [1131, 1.0], [1132, 1.0], [1133, 1.0], [1134, 0.0], [1135, 0.0], [1136, 0.0], [1137, 0.0], [1138, 1.0], [1139, 0.0], [1140, 1.0], [1141, 1.0], [1142, 1.0], [1143, 0.0], [1144, 0.0], [1145, 0.0], [1146, 0.0], [1147, 0.0], [1148, 0.0], [1149, 0.0], [1150, 1.0], [1151, 0.0], [1152, 0.0], [1153, 0.0], [1154, 1.0], [1155, 1.0], [1156, 0.0], [1157, 0.0], [1158, 0.0], [1159, 0.0], [1160, 1.0], [1161, 0.0], [1162, 0.0], [1163, 0.0], [1164, 1.0], [1165, 1.0], [1166, 0.0], [1167, 1.0], [1168, 0.0], [1169, 0.0], [1170, 0.0], [1171, 0.0], [1172, 1.0], [1173, 0.0], [1174, 1.0], [1175, 1.0], [1176, 1.0], [1177, 0.0], [1178, 0.0], [1179, 0.0], [1180, 0.0], [1181, 0.0], [1182, 0.0], [1183, 1.0], [1184, 0.0], [1185, 0.0], [1186, 0.0], [1187, 0.0], [1188, 1.0], [1189, 0.0], [1190, 0.0], [1191, 0.0], [1192, 0.0], [1193, 0.0], [1194, 0.0], [1195, 0.0], [1196, 1.0], [1197, 1.0], [1198, 0.0], [1199, 0.0], [1200, 0.0], [1201, 1.0], [1202, 0.0], [1203, 0.0], [1204, 0.0], [1205, 1.0], [1206, 1.0], [1207, 1.0], [1208, 0.0], [1209, 0.0], [1210, 0.0], [1211, 0.0], [1212, 0.0], [1213, 0.0], [1214, 0.0], [1215, 0.0], [1216, 1.0], [1217, 0.0], [1218, 1.0], [1219, 0.0], [1220, 0.0], [1221, 0.0], [1222, 1.0], [1223, 0.0], [1224, 0.0], [1225, 1.0], [1226, 0.0], [1227, 0.0], [1228, 0.0], [1229, 0.0], [1230, 0.0], [1231, 0.0], [1232, 0.0], [1233, 0.0], [1234, 0.0], [1235, 1.0], [1236, 0.0], [1237, 1.0], [1238, 0.0], [1239, 1.0], [1240, 0.0], [1241, 1.0], [1242, 1.0], [1243, 0.0], [1244, 0.0], [1245, 0.0], [1246, 1.0], [1247, 0.0], [1248, 1.0], [1249, 0.0], [1250, 0.0], [1251, 1.0], [1252, 0.0], [1253, 1.0], [1254, 1.0], [1255, 0.0], [1256, 1.0], [1257, 0.0], [1258, 0.0], [1259, 1.0], [1260, 1.0], [1261, 0.0], [1262, 0.0], [1263, 1.0], [1264, 0.0], [1265, 0.0], [1266, 1.0], [1267, 1.0], [1268, 1.0], [1269, 0.0], [1270, 0.0], [1271, 0.0], [1272, 0.0], [1273, 0.0], [1274, 1.0], [1275, 1.0], [1276, 0.0], [1277, 1.0], [1278, 0.0], [1279, 0.0], [1280, 0.0], [1281, 0.0], [1282, 0.0], [1283, 1.0], [1284, 0.0], [1285, 0.0], [1286, 0.0], [1287, 1.0], [1288, 0.0], [1289, 1.0], [1290, 0.0], [1291, 0.0], [1292, 1.0], [1293, 0.0], [1294, 1.0], [1295, 1.0], [1296, 0.0], [1297, 0.0], [1298, 0.0], [1299, 0.0], [1300, 1.0], [1301, 1.0], [1302, 1.0], [1303, 1.0], [1304, 1.0], [1305, 0.0], [1306, 1.0], [1307, 0.0], [1308, 0.0], [1309, 0.0]]\n"
          ],
          "name": "stdout"
        }
      ]
    },
    {
      "cell_type": "code",
      "metadata": {
        "id": "jCXbQGt0vhY0"
      },
      "source": [
        "df = pd. DataFrame(new_set)"
      ],
      "execution_count": null,
      "outputs": []
    },
    {
      "cell_type": "code",
      "metadata": {
        "colab": {
          "base_uri": "https://localhost:8080/"
        },
        "id": "n9iz5w5_wcpj",
        "outputId": "5822b425-db56-4e83-904e-9fe7d1ea3cda"
      },
      "source": [
        "print(df)"
      ],
      "execution_count": null,
      "outputs": [
        {
          "output_type": "stream",
          "text": [
            "        0    1\n",
            "0     892  0.0\n",
            "1     893  0.0\n",
            "2     894  0.0\n",
            "3     895  0.0\n",
            "4     896  1.0\n",
            "..    ...  ...\n",
            "413  1305  0.0\n",
            "414  1306  1.0\n",
            "415  1307  0.0\n",
            "416  1308  0.0\n",
            "417  1309  0.0\n",
            "\n",
            "[418 rows x 2 columns]\n"
          ],
          "name": "stdout"
        }
      ]
    },
    {
      "cell_type": "code",
      "metadata": {
        "id": "UT7R4GdZxtY9"
      },
      "source": [
        "df.columns = ['PassengerId', 'Survived']"
      ],
      "execution_count": null,
      "outputs": []
    },
    {
      "cell_type": "code",
      "metadata": {
        "colab": {
          "base_uri": "https://localhost:8080/",
          "height": 203
        },
        "id": "NvMtdg2ux2Sl",
        "outputId": "c2e0b26d-bbcb-4a5b-81c4-66612aaf7788"
      },
      "source": [
        "df.head()"
      ],
      "execution_count": null,
      "outputs": [
        {
          "output_type": "execute_result",
          "data": {
            "text/html": [
              "<div>\n",
              "<style scoped>\n",
              "    .dataframe tbody tr th:only-of-type {\n",
              "        vertical-align: middle;\n",
              "    }\n",
              "\n",
              "    .dataframe tbody tr th {\n",
              "        vertical-align: top;\n",
              "    }\n",
              "\n",
              "    .dataframe thead th {\n",
              "        text-align: right;\n",
              "    }\n",
              "</style>\n",
              "<table border=\"1\" class=\"dataframe\">\n",
              "  <thead>\n",
              "    <tr style=\"text-align: right;\">\n",
              "      <th></th>\n",
              "      <th>PassengerId</th>\n",
              "      <th>Survived</th>\n",
              "    </tr>\n",
              "  </thead>\n",
              "  <tbody>\n",
              "    <tr>\n",
              "      <th>0</th>\n",
              "      <td>892</td>\n",
              "      <td>0.0</td>\n",
              "    </tr>\n",
              "    <tr>\n",
              "      <th>1</th>\n",
              "      <td>893</td>\n",
              "      <td>0.0</td>\n",
              "    </tr>\n",
              "    <tr>\n",
              "      <th>2</th>\n",
              "      <td>894</td>\n",
              "      <td>0.0</td>\n",
              "    </tr>\n",
              "    <tr>\n",
              "      <th>3</th>\n",
              "      <td>895</td>\n",
              "      <td>0.0</td>\n",
              "    </tr>\n",
              "    <tr>\n",
              "      <th>4</th>\n",
              "      <td>896</td>\n",
              "      <td>1.0</td>\n",
              "    </tr>\n",
              "  </tbody>\n",
              "</table>\n",
              "</div>"
            ],
            "text/plain": [
              "   PassengerId  Survived\n",
              "0          892       0.0\n",
              "1          893       0.0\n",
              "2          894       0.0\n",
              "3          895       0.0\n",
              "4          896       1.0"
            ]
          },
          "metadata": {
            "tags": []
          },
          "execution_count": 100
        }
      ]
    },
    {
      "cell_type": "code",
      "metadata": {
        "colab": {
          "base_uri": "https://localhost:8080/"
        },
        "id": "z6t84_cIweCp",
        "outputId": "4580d375-0554-46aa-b061-3ffc87453358"
      },
      "source": [
        "type(y_pred[0])"
      ],
      "execution_count": null,
      "outputs": [
        {
          "output_type": "execute_result",
          "data": {
            "text/plain": [
              "numpy.float64"
            ]
          },
          "metadata": {
            "tags": []
          },
          "execution_count": 98
        }
      ]
    },
    {
      "cell_type": "code",
      "metadata": {
        "id": "v7WGsdYXw_ib"
      },
      "source": [
        "df['Survived'] = df['Survived'].astype(int)"
      ],
      "execution_count": null,
      "outputs": []
    },
    {
      "cell_type": "code",
      "metadata": {
        "id": "JhVGuCJSyFaE"
      },
      "source": [
        "df.to_csv ('predictions.csv', index = False, header=True)"
      ],
      "execution_count": null,
      "outputs": []
    },
    {
      "cell_type": "code",
      "metadata": {
        "id": "JZJ8Wc4Ny8Vn"
      },
      "source": [
        ""
      ],
      "execution_count": null,
      "outputs": []
    }
  ]
}