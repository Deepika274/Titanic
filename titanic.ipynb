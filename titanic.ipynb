{
  "nbformat": 4,
  "nbformat_minor": 0,
  "metadata": {
    "colab": {
      "name": "titanic.ipynb",
      "provenance": [],
      "collapsed_sections": [],
      "authorship_tag": "ABX9TyOXeQz89kcpb0aJiuJ5iv4C",
      "include_colab_link": true
    },
    "kernelspec": {
      "name": "python3",
      "display_name": "Python 3"
    },
    "language_info": {
      "name": "python"
    }
  },
  "cells": [
    {
      "cell_type": "markdown",
      "metadata": {
        "id": "view-in-github",
        "colab_type": "text"
      },
      "source": [
        "<a href=\"https://colab.research.google.com/github/Deepika274/Titanic/blob/main/titanic.ipynb\" target=\"_parent\"><img src=\"https://colab.research.google.com/assets/colab-badge.svg\" alt=\"Open In Colab\"/></a>"
      ]
    },
    {
      "cell_type": "markdown",
      "metadata": {
        "id": "_tiZyrWVJgze"
      },
      "source": [
        "Importing Libraries"
      ]
    },
    {
      "cell_type": "code",
      "metadata": {
        "id": "ViX37vRkH9TN"
      },
      "source": [
        "import numpy as np\n",
        "import pandas as pd\n",
        "import matplotlib.pyplot as plt"
      ],
      "execution_count": 75,
      "outputs": []
    },
    {
      "cell_type": "markdown",
      "metadata": {
        "id": "jR3w8XvmJuht"
      },
      "source": [
        "Importing the dataset"
      ]
    },
    {
      "cell_type": "code",
      "metadata": {
        "id": "-BFKHL9LKSTd"
      },
      "source": [
        "train_dataset = pd.read_csv('train.csv')"
      ],
      "execution_count": 76,
      "outputs": []
    },
    {
      "cell_type": "code",
      "metadata": {
        "colab": {
          "base_uri": "https://localhost:8080/",
          "height": 237
        },
        "id": "qdMdiAS3RKlF",
        "outputId": "5bf267b9-3e7e-400f-c71a-e9bafbda999a"
      },
      "source": [
        "train_dataset.head()"
      ],
      "execution_count": 77,
      "outputs": [
        {
          "output_type": "execute_result",
          "data": {
            "text/html": [
              "<div>\n",
              "<style scoped>\n",
              "    .dataframe tbody tr th:only-of-type {\n",
              "        vertical-align: middle;\n",
              "    }\n",
              "\n",
              "    .dataframe tbody tr th {\n",
              "        vertical-align: top;\n",
              "    }\n",
              "\n",
              "    .dataframe thead th {\n",
              "        text-align: right;\n",
              "    }\n",
              "</style>\n",
              "<table border=\"1\" class=\"dataframe\">\n",
              "  <thead>\n",
              "    <tr style=\"text-align: right;\">\n",
              "      <th></th>\n",
              "      <th>PassengerId</th>\n",
              "      <th>Survived</th>\n",
              "      <th>Pclass</th>\n",
              "      <th>Name</th>\n",
              "      <th>Sex</th>\n",
              "      <th>Age</th>\n",
              "      <th>SibSp</th>\n",
              "      <th>Parch</th>\n",
              "      <th>Ticket</th>\n",
              "      <th>Fare</th>\n",
              "      <th>Cabin</th>\n",
              "      <th>Embarked</th>\n",
              "    </tr>\n",
              "  </thead>\n",
              "  <tbody>\n",
              "    <tr>\n",
              "      <th>0</th>\n",
              "      <td>1</td>\n",
              "      <td>0</td>\n",
              "      <td>3</td>\n",
              "      <td>Braund, Mr. Owen Harris</td>\n",
              "      <td>male</td>\n",
              "      <td>22.0</td>\n",
              "      <td>1</td>\n",
              "      <td>0</td>\n",
              "      <td>A/5 21171</td>\n",
              "      <td>7.2500</td>\n",
              "      <td>NaN</td>\n",
              "      <td>S</td>\n",
              "    </tr>\n",
              "    <tr>\n",
              "      <th>1</th>\n",
              "      <td>2</td>\n",
              "      <td>1</td>\n",
              "      <td>1</td>\n",
              "      <td>Cumings, Mrs. John Bradley (Florence Briggs Th...</td>\n",
              "      <td>female</td>\n",
              "      <td>38.0</td>\n",
              "      <td>1</td>\n",
              "      <td>0</td>\n",
              "      <td>PC 17599</td>\n",
              "      <td>71.2833</td>\n",
              "      <td>C85</td>\n",
              "      <td>C</td>\n",
              "    </tr>\n",
              "    <tr>\n",
              "      <th>2</th>\n",
              "      <td>3</td>\n",
              "      <td>1</td>\n",
              "      <td>3</td>\n",
              "      <td>Heikkinen, Miss. Laina</td>\n",
              "      <td>female</td>\n",
              "      <td>26.0</td>\n",
              "      <td>0</td>\n",
              "      <td>0</td>\n",
              "      <td>STON/O2. 3101282</td>\n",
              "      <td>7.9250</td>\n",
              "      <td>NaN</td>\n",
              "      <td>S</td>\n",
              "    </tr>\n",
              "    <tr>\n",
              "      <th>3</th>\n",
              "      <td>4</td>\n",
              "      <td>1</td>\n",
              "      <td>1</td>\n",
              "      <td>Futrelle, Mrs. Jacques Heath (Lily May Peel)</td>\n",
              "      <td>female</td>\n",
              "      <td>35.0</td>\n",
              "      <td>1</td>\n",
              "      <td>0</td>\n",
              "      <td>113803</td>\n",
              "      <td>53.1000</td>\n",
              "      <td>C123</td>\n",
              "      <td>S</td>\n",
              "    </tr>\n",
              "    <tr>\n",
              "      <th>4</th>\n",
              "      <td>5</td>\n",
              "      <td>0</td>\n",
              "      <td>3</td>\n",
              "      <td>Allen, Mr. William Henry</td>\n",
              "      <td>male</td>\n",
              "      <td>35.0</td>\n",
              "      <td>0</td>\n",
              "      <td>0</td>\n",
              "      <td>373450</td>\n",
              "      <td>8.0500</td>\n",
              "      <td>NaN</td>\n",
              "      <td>S</td>\n",
              "    </tr>\n",
              "  </tbody>\n",
              "</table>\n",
              "</div>"
            ],
            "text/plain": [
              "   PassengerId  Survived  Pclass  ...     Fare Cabin  Embarked\n",
              "0            1         0       3  ...   7.2500   NaN         S\n",
              "1            2         1       1  ...  71.2833   C85         C\n",
              "2            3         1       3  ...   7.9250   NaN         S\n",
              "3            4         1       1  ...  53.1000  C123         S\n",
              "4            5         0       3  ...   8.0500   NaN         S\n",
              "\n",
              "[5 rows x 12 columns]"
            ]
          },
          "metadata": {
            "tags": []
          },
          "execution_count": 77
        }
      ]
    },
    {
      "cell_type": "code",
      "metadata": {
        "colab": {
          "base_uri": "https://localhost:8080/"
        },
        "id": "Lys9d52wK5ng",
        "outputId": "fbff0b12-a38e-48b3-f578-22f68f98440e"
      },
      "source": [
        "print(train_dataset)"
      ],
      "execution_count": 78,
      "outputs": [
        {
          "output_type": "stream",
          "text": [
            "     PassengerId  Survived  Pclass  ...     Fare Cabin  Embarked\n",
            "0              1         0       3  ...   7.2500   NaN         S\n",
            "1              2         1       1  ...  71.2833   C85         C\n",
            "2              3         1       3  ...   7.9250   NaN         S\n",
            "3              4         1       1  ...  53.1000  C123         S\n",
            "4              5         0       3  ...   8.0500   NaN         S\n",
            "..           ...       ...     ...  ...      ...   ...       ...\n",
            "886          887         0       2  ...  13.0000   NaN         S\n",
            "887          888         1       1  ...  30.0000   B42         S\n",
            "888          889         0       3  ...  23.4500   NaN         S\n",
            "889          890         1       1  ...  30.0000  C148         C\n",
            "890          891         0       3  ...   7.7500   NaN         Q\n",
            "\n",
            "[891 rows x 12 columns]\n"
          ],
          "name": "stdout"
        }
      ]
    },
    {
      "cell_type": "code",
      "metadata": {
        "id": "Ehrg8Ms4LZot"
      },
      "source": [
        "X_train = train_dataset.drop(['Name'], axis = 1)"
      ],
      "execution_count": 79,
      "outputs": []
    },
    {
      "cell_type": "code",
      "metadata": {
        "id": "mO_xugnPL4G7"
      },
      "source": [
        "X_train = X_train.drop(['Ticket'], axis = 1)\n",
        "X_train = X_train.drop(['Embarked'], axis = 1)\n",
        "X_train = X_train.drop(['Cabin'], axis = 1)"
      ],
      "execution_count": 80,
      "outputs": []
    },
    {
      "cell_type": "code",
      "metadata": {
        "colab": {
          "base_uri": "https://localhost:8080/"
        },
        "id": "oguCGdZ5MYf5",
        "outputId": "18096ea5-5d57-4d47-d2c6-c1c478ab9866"
      },
      "source": [
        "print(X_train)"
      ],
      "execution_count": 81,
      "outputs": [
        {
          "output_type": "stream",
          "text": [
            "     PassengerId  Survived  Pclass     Sex   Age  SibSp  Parch     Fare\n",
            "0              1         0       3    male  22.0      1      0   7.2500\n",
            "1              2         1       1  female  38.0      1      0  71.2833\n",
            "2              3         1       3  female  26.0      0      0   7.9250\n",
            "3              4         1       1  female  35.0      1      0  53.1000\n",
            "4              5         0       3    male  35.0      0      0   8.0500\n",
            "..           ...       ...     ...     ...   ...    ...    ...      ...\n",
            "886          887         0       2    male  27.0      0      0  13.0000\n",
            "887          888         1       1  female  19.0      0      0  30.0000\n",
            "888          889         0       3  female   NaN      1      2  23.4500\n",
            "889          890         1       1    male  26.0      0      0  30.0000\n",
            "890          891         0       3    male  32.0      0      0   7.7500\n",
            "\n",
            "[891 rows x 8 columns]\n"
          ],
          "name": "stdout"
        }
      ]
    },
    {
      "cell_type": "code",
      "metadata": {
        "colab": {
          "base_uri": "https://localhost:8080/"
        },
        "id": "tyJWexGYK6_O",
        "outputId": "1d618f0b-07fa-439e-de61-53d60a412758"
      },
      "source": [
        "X_train = X_train.drop(['Survived'], axis = 1)\n",
        "X_train = X_train.iloc[:,:].values\n",
        "print(X_train)"
      ],
      "execution_count": 82,
      "outputs": [
        {
          "output_type": "stream",
          "text": [
            "[[1 3 'male' ... 1 0 7.25]\n",
            " [2 1 'female' ... 1 0 71.2833]\n",
            " [3 3 'female' ... 0 0 7.925]\n",
            " ...\n",
            " [889 3 'female' ... 1 2 23.45]\n",
            " [890 1 'male' ... 0 0 30.0]\n",
            " [891 3 'male' ... 0 0 7.75]]\n"
          ],
          "name": "stdout"
        }
      ]
    },
    {
      "cell_type": "markdown",
      "metadata": {
        "id": "IIhA2O9sEirR"
      },
      "source": [
        "Categorical Encoding (One Hot Encoding)"
      ]
    },
    {
      "cell_type": "code",
      "metadata": {
        "id": "a84dGbOGFVv5"
      },
      "source": [
        "from sklearn.compose import ColumnTransformer\n",
        "from sklearn.preprocessing import OneHotEncoder\n",
        "ct = ColumnTransformer(transformers =[('encoder', OneHotEncoder(), [2])], remainder='passthrough')\n",
        "X_train = ct.fit_transform(X_train)"
      ],
      "execution_count": 83,
      "outputs": []
    },
    {
      "cell_type": "code",
      "metadata": {
        "colab": {
          "base_uri": "https://localhost:8080/"
        },
        "id": "Aq7cA3tXMtJm",
        "outputId": "56c02769-0087-4179-ef7d-62cd7d8f9268"
      },
      "source": [
        "print(X_train[0])"
      ],
      "execution_count": 84,
      "outputs": [
        {
          "output_type": "stream",
          "text": [
            "[0.0 1.0 1 3 22.0 1 0 7.25]\n"
          ],
          "name": "stdout"
        }
      ]
    },
    {
      "cell_type": "code",
      "metadata": {
        "colab": {
          "base_uri": "https://localhost:8080/"
        },
        "id": "6ehevlOoLUuj",
        "outputId": "e6780c22-b1b4-46d2-8928-8ac140e7d209"
      },
      "source": [
        "y_train = train_dataset.iloc[:,1].values\n",
        "print(y_train)"
      ],
      "execution_count": 85,
      "outputs": [
        {
          "output_type": "stream",
          "text": [
            "[0 1 1 1 0 0 0 0 1 1 1 1 0 0 0 1 0 1 0 1 0 1 1 1 0 1 0 0 1 0 0 1 1 0 0 0 1\n",
            " 0 0 1 0 0 0 1 1 0 0 1 0 0 0 0 1 1 0 1 1 0 1 0 0 1 0 0 0 1 1 0 1 0 0 0 0 0\n",
            " 1 0 0 0 1 1 0 1 1 0 1 1 0 0 1 0 0 0 0 0 0 0 0 1 1 0 0 0 0 0 0 0 1 1 0 1 0\n",
            " 0 0 0 0 0 0 0 0 0 0 0 0 1 0 1 0 1 1 0 0 0 0 1 0 0 1 0 0 0 0 1 1 0 0 0 1 0\n",
            " 0 0 0 1 0 0 0 0 1 0 0 0 0 1 0 0 0 1 1 0 0 0 0 0 1 0 0 0 0 0 0 0 0 0 0 1 1\n",
            " 0 1 1 0 0 1 0 1 1 1 1 0 0 1 0 0 0 0 0 1 0 0 1 1 1 0 1 0 0 0 1 1 0 1 0 1 0\n",
            " 0 0 1 0 1 0 0 0 1 0 0 1 0 0 0 1 0 0 0 1 0 0 0 0 0 1 1 0 0 0 0 0 0 1 1 1 1\n",
            " 1 0 1 0 0 0 0 0 1 1 1 0 1 1 0 1 1 0 0 0 1 0 0 0 1 0 0 1 0 1 1 1 1 0 0 0 0\n",
            " 0 0 1 1 1 1 0 1 0 1 1 1 0 1 1 1 0 0 0 1 1 0 1 1 0 0 1 1 0 1 0 1 1 1 1 0 0\n",
            " 0 1 0 0 1 1 0 1 1 0 0 0 1 1 1 1 0 0 0 0 0 0 0 1 0 1 1 0 0 0 0 0 0 1 1 1 1\n",
            " 1 0 0 0 0 1 1 0 0 0 1 1 0 1 0 0 0 1 0 1 1 1 0 1 1 0 0 0 0 1 1 0 0 0 0 0 0\n",
            " 1 0 0 0 0 1 0 1 0 1 1 0 0 0 0 0 0 0 0 1 1 0 1 1 1 1 0 0 1 0 1 0 0 1 0 0 1\n",
            " 1 1 1 1 1 1 0 0 0 1 0 1 0 1 1 0 1 0 0 0 0 0 0 0 0 1 0 0 1 1 0 0 0 0 0 1 0\n",
            " 0 0 1 1 0 1 0 0 1 0 0 0 0 0 0 1 0 0 0 0 0 0 0 1 0 1 1 0 1 1 0 1 1 0 0 1 0\n",
            " 1 0 1 0 0 1 0 0 1 0 0 0 1 0 0 1 0 1 0 1 0 1 1 0 0 1 0 0 1 1 0 1 1 0 0 1 1\n",
            " 0 1 0 1 1 0 0 0 0 0 0 0 0 0 1 1 1 1 1 0 0 1 1 0 1 1 1 0 0 0 1 0 1 0 0 0 1\n",
            " 0 0 0 0 1 0 0 1 1 0 0 0 1 0 0 1 1 1 0 0 1 0 0 1 0 0 1 0 0 1 1 0 0 0 0 1 0\n",
            " 0 1 0 1 0 0 1 0 0 0 0 0 1 0 1 1 1 0 1 0 1 0 1 0 1 0 0 0 0 0 0 1 0 0 0 1 0\n",
            " 0 0 0 1 1 0 0 1 0 0 0 1 0 1 0 1 0 0 0 0 0 0 0 1 1 1 1 0 0 0 0 1 0 0 1 1 0\n",
            " 0 0 0 1 1 1 1 1 0 1 0 0 0 1 1 0 0 1 0 0 0 1 0 1 1 0 0 1 0 0 0 0 0 0 1 0 0\n",
            " 1 0 1 0 1 0 0 1 0 0 1 1 0 0 1 1 0 0 0 1 0 0 1 1 0 1 0 0 0 0 0 0 0 0 1 0 0\n",
            " 1 0 1 1 1 0 0 0 0 1 0 1 0 0 0 0 0 0 0 1 1 0 0 0 1 1 1 1 0 0 0 0 1 0 0 0 0\n",
            " 0 0 0 0 0 0 1 1 0 1 0 0 0 1 1 1 1 1 0 0 0 1 0 0 1 1 0 0 1 0 0 0 0 0 0 1 0\n",
            " 0 0 1 0 1 1 1 1 0 0 0 1 0 0 1 1 0 0 1 0 1 0 0 1 1 0 0 0 1 1 0 0 0 0 0 0 1\n",
            " 0 1 0]\n"
          ],
          "name": "stdout"
        }
      ]
    },
    {
      "cell_type": "markdown",
      "metadata": {
        "id": "dFv1WpBzPp3C"
      },
      "source": [
        "Handling Missing Vaues"
      ]
    },
    {
      "cell_type": "code",
      "metadata": {
        "colab": {
          "base_uri": "https://localhost:8080/"
        },
        "id": "4ACng8lhP6Hd",
        "outputId": "f53cce4f-63ba-495e-f8e1-cdf6dec18965"
      },
      "source": [
        "train_dataset.isnull().sum()"
      ],
      "execution_count": 86,
      "outputs": [
        {
          "output_type": "execute_result",
          "data": {
            "text/plain": [
              "PassengerId      0\n",
              "Survived         0\n",
              "Pclass           0\n",
              "Name             0\n",
              "Sex              0\n",
              "Age            177\n",
              "SibSp            0\n",
              "Parch            0\n",
              "Ticket           0\n",
              "Fare             0\n",
              "Cabin          687\n",
              "Embarked         2\n",
              "dtype: int64"
            ]
          },
          "metadata": {
            "tags": []
          },
          "execution_count": 86
        }
      ]
    },
    {
      "cell_type": "code",
      "metadata": {
        "id": "0jqYzd_NPOF_"
      },
      "source": [
        "from sklearn.impute import SimpleImputer\n",
        "imputer = SimpleImputer(missing_values = np.nan, strategy = 'mean')\n",
        "x = imputer.fit_transform(X_train[:,4].reshape(-1,1))\n",
        "X_train[:,4] = x.reshape(891,)"
      ],
      "execution_count": 87,
      "outputs": []
    },
    {
      "cell_type": "code",
      "metadata": {
        "colab": {
          "base_uri": "https://localhost:8080/"
        },
        "id": "6Nep3VMqQ_0b",
        "outputId": "c88f0230-8ff3-43ef-bdfb-4e47ae1297ad"
      },
      "source": [
        "print(X_train)"
      ],
      "execution_count": 88,
      "outputs": [
        {
          "output_type": "stream",
          "text": [
            "[[0.0 1.0 1 ... 1 0 7.25]\n",
            " [1.0 0.0 2 ... 1 0 71.2833]\n",
            " [1.0 0.0 3 ... 0 0 7.925]\n",
            " ...\n",
            " [1.0 0.0 889 ... 1 2 23.45]\n",
            " [0.0 1.0 890 ... 0 0 30.0]\n",
            " [0.0 1.0 891 ... 0 0 7.75]]\n"
          ],
          "name": "stdout"
        }
      ]
    },
    {
      "cell_type": "markdown",
      "metadata": {
        "id": "4N80bjANUWox"
      },
      "source": [
        "For Test Cases"
      ]
    },
    {
      "cell_type": "code",
      "metadata": {
        "colab": {
          "base_uri": "https://localhost:8080/"
        },
        "id": "f0g3XurJNoBk",
        "outputId": "9eedcd3e-7211-4bc0-c157-ade09ee07ce4"
      },
      "source": [
        "test_dataset = pd.read_csv('test.csv')\n",
        "print(test_dataset)"
      ],
      "execution_count": 89,
      "outputs": [
        {
          "output_type": "stream",
          "text": [
            "     PassengerId  Pclass  ... Cabin Embarked\n",
            "0            892       3  ...   NaN        Q\n",
            "1            893       3  ...   NaN        S\n",
            "2            894       2  ...   NaN        Q\n",
            "3            895       3  ...   NaN        S\n",
            "4            896       3  ...   NaN        S\n",
            "..           ...     ...  ...   ...      ...\n",
            "413         1305       3  ...   NaN        S\n",
            "414         1306       1  ...  C105        C\n",
            "415         1307       3  ...   NaN        S\n",
            "416         1308       3  ...   NaN        S\n",
            "417         1309       3  ...   NaN        C\n",
            "\n",
            "[418 rows x 11 columns]\n"
          ],
          "name": "stdout"
        }
      ]
    },
    {
      "cell_type": "code",
      "metadata": {
        "id": "CyWWLpIAUg6A"
      },
      "source": [
        "X_test = test_dataset.drop(['Name'], axis = 1)\n",
        "X_test = X_test.drop(['Ticket'], axis = 1)\n",
        "X_test = X_test.drop(['Embarked'], axis = 1)\n",
        "X_test = X_test.drop(['Cabin'], axis = 1)"
      ],
      "execution_count": 90,
      "outputs": []
    },
    {
      "cell_type": "code",
      "metadata": {
        "colab": {
          "base_uri": "https://localhost:8080/"
        },
        "id": "o8JGBZNpU7hZ",
        "outputId": "90445102-2e58-4c06-ca17-c61555c28ed8"
      },
      "source": [
        "print(X_test)"
      ],
      "execution_count": 91,
      "outputs": [
        {
          "output_type": "stream",
          "text": [
            "     PassengerId  Pclass     Sex   Age  SibSp  Parch      Fare\n",
            "0            892       3    male  34.5      0      0    7.8292\n",
            "1            893       3  female  47.0      1      0    7.0000\n",
            "2            894       2    male  62.0      0      0    9.6875\n",
            "3            895       3    male  27.0      0      0    8.6625\n",
            "4            896       3  female  22.0      1      1   12.2875\n",
            "..           ...     ...     ...   ...    ...    ...       ...\n",
            "413         1305       3    male   NaN      0      0    8.0500\n",
            "414         1306       1  female  39.0      0      0  108.9000\n",
            "415         1307       3    male  38.5      0      0    7.2500\n",
            "416         1308       3    male   NaN      0      0    8.0500\n",
            "417         1309       3    male   NaN      1      1   22.3583\n",
            "\n",
            "[418 rows x 7 columns]\n"
          ],
          "name": "stdout"
        }
      ]
    },
    {
      "cell_type": "code",
      "metadata": {
        "colab": {
          "base_uri": "https://localhost:8080/"
        },
        "id": "SG6nFQvMY7Nh",
        "outputId": "07585c81-0bb8-4274-c386-001f96674f3e"
      },
      "source": [
        "X_test.isnull().sum()"
      ],
      "execution_count": 92,
      "outputs": [
        {
          "output_type": "execute_result",
          "data": {
            "text/plain": [
              "PassengerId     0\n",
              "Pclass          0\n",
              "Sex             0\n",
              "Age            86\n",
              "SibSp           0\n",
              "Parch           0\n",
              "Fare            1\n",
              "dtype: int64"
            ]
          },
          "metadata": {
            "tags": []
          },
          "execution_count": 92
        }
      ]
    },
    {
      "cell_type": "code",
      "metadata": {
        "id": "2HT1KYjDVw-2"
      },
      "source": [
        "X_test = X_test.iloc[:,:].values"
      ],
      "execution_count": 93,
      "outputs": []
    },
    {
      "cell_type": "code",
      "metadata": {
        "id": "9TTdh7POVE8x"
      },
      "source": [
        "#ct = ColumnTransformer(transformers =[('encoder', OneHotEncoder(), [2])], remainder='passthrough')\n",
        "X_test = ct.fit_transform(X_test)"
      ],
      "execution_count": 94,
      "outputs": []
    },
    {
      "cell_type": "code",
      "metadata": {
        "colab": {
          "base_uri": "https://localhost:8080/"
        },
        "id": "lnaRU8YAVg7A",
        "outputId": "f1dc948d-ef04-4e72-b229-ff46561bce87"
      },
      "source": [
        "print(X_test[0])"
      ],
      "execution_count": 95,
      "outputs": [
        {
          "output_type": "stream",
          "text": [
            "[0.0 1.0 892 3 34.5 0 0 7.8292]\n"
          ],
          "name": "stdout"
        }
      ]
    },
    {
      "cell_type": "code",
      "metadata": {
        "id": "NEtkFiSxXtvv"
      },
      "source": [
        "x1 = imputer.fit_transform(X_test[:,4].reshape(-1,1))\n",
        "x2 = imputer.fit_transform(X_test[:,-1].reshape(-1,1))"
      ],
      "execution_count": 96,
      "outputs": []
    },
    {
      "cell_type": "code",
      "metadata": {
        "id": "I39BLf46X_9S"
      },
      "source": [
        "X_test[:,4] = x1.reshape(418,)\n",
        "X_test[:,-1] = x2.reshape(418,)"
      ],
      "execution_count": 97,
      "outputs": []
    },
    {
      "cell_type": "code",
      "metadata": {
        "colab": {
          "base_uri": "https://localhost:8080/"
        },
        "id": "aZTPZix0OkhU",
        "outputId": "5f75316b-7188-47e0-aeec-f45c526da97e"
      },
      "source": [
        "print(X_test)"
      ],
      "execution_count": 98,
      "outputs": [
        {
          "output_type": "stream",
          "text": [
            "[[0.0 1.0 892 ... 0 0 7.8292]\n",
            " [1.0 0.0 893 ... 1 0 7.0]\n",
            " [0.0 1.0 894 ... 0 0 9.6875]\n",
            " ...\n",
            " [0.0 1.0 1307 ... 0 0 7.25]\n",
            " [0.0 1.0 1308 ... 0 0 8.05]\n",
            " [0.0 1.0 1309 ... 1 1 22.3583]]\n"
          ],
          "name": "stdout"
        }
      ]
    },
    {
      "cell_type": "code",
      "metadata": {
        "id": "Id30sj3_uEnt",
        "colab": {
          "base_uri": "https://localhost:8080/"
        },
        "outputId": "efc0a9ab-cf66-47e8-a84a-4fc217e3b062"
      },
      "source": [
        "print(X_test[:,2][4])"
      ],
      "execution_count": 99,
      "outputs": [
        {
          "output_type": "stream",
          "text": [
            "896\n"
          ],
          "name": "stdout"
        }
      ]
    },
    {
      "cell_type": "markdown",
      "metadata": {
        "id": "N6pRrcF9eYZM"
      },
      "source": [
        "Training Model on Training Set"
      ]
    },
    {
      "cell_type": "code",
      "metadata": {
        "colab": {
          "base_uri": "https://localhost:8080/"
        },
        "id": "Kenuy75EddP1",
        "outputId": "4c0775ef-3eb0-4b55-ab04-705ead6bf97d"
      },
      "source": [
        "from sklearn.linear_model import LinearRegression\n",
        "regressor = LinearRegression()\n",
        "regressor.fit(X_train,y_train)"
      ],
      "execution_count": 101,
      "outputs": [
        {
          "output_type": "execute_result",
          "data": {
            "text/plain": [
              "LinearRegression(copy_X=True, fit_intercept=True, n_jobs=None, normalize=False)"
            ]
          },
          "metadata": {
            "tags": []
          },
          "execution_count": 101
        }
      ]
    },
    {
      "cell_type": "code",
      "metadata": {
        "colab": {
          "base_uri": "https://localhost:8080/"
        },
        "id": "aKPnsGP2fiWg",
        "outputId": "370dd07e-0726-4238-c33f-c0963dca1a60"
      },
      "source": [
        "y_pred = regressor.predict(X_test)\n",
        "print(y_pred)"
      ],
      "execution_count": 102,
      "outputs": [
        {
          "output_type": "stream",
          "text": [
            "[ 0.08221053  0.47785424  0.09138821  0.12663572  0.60685928  0.2032427\n",
            "  0.62123494  0.24759312  0.69157086  0.08189095  0.1071684   0.36210175\n",
            "  0.98984036  0.04914309  0.84018477  0.79155345  0.25121181  0.16142374\n",
            "  0.59587642  0.53309807  0.27990868  0.21022505  0.96955054  0.50362985\n",
            "  0.85740115 -0.04904104  1.01065068  0.15271465  0.3934997   0.02661044\n",
            "  0.12566922  0.23743817  0.52591339  0.54313048  0.42620379  0.17629086\n",
            "  0.62011083  0.67483574  0.13908214  0.12754006  0.03844758  0.45500564\n",
            "  0.04446623  0.79373625  0.84867305  0.13850215  0.36985737  0.10748195\n",
            "  0.8136414   0.54975564  0.46253548  0.2996613   0.75020322  0.90902134\n",
            "  0.28069586  0.04252909  0.07986707  0.13850977  0.06782061  1.03159325\n",
            "  0.18562894  0.26976178  0.17971549  0.66883767  0.5275816   0.7956626\n",
            "  0.69242534  0.3635696   0.45182715  0.76758789  0.65717189  0.16224641\n",
            "  0.62789732  0.46622378  1.01659961  0.51867719  0.10789886  0.7359555\n",
            "  0.28147378  0.65726281  0.19020782  0.27712958  0.34519878  0.10790587\n",
            "  0.27898656  0.06741343  0.63976666  0.69270806  0.62051221  0.38690461\n",
            "  0.62843939  0.10793679  0.91456024  0.1080706   0.48628195  0.1389539\n",
            "  0.67798643  0.11553382  0.68099146  0.09211201  0.86217856  0.26147502\n",
            "  0.10803758  0.13315271  0.64155213  0.12751992  0.16256901  0.1080881\n",
            "  0.10849585  0.34933122  0.2180347   0.62075663  0.93681861  0.68971726\n",
            "  0.81357268  0.13979851  0.10763677  0.73316553  0.44226065  0.76252609\n",
            "  0.90137173  0.06500733  0.91034179  0.12139103  0.10825984  0.68224604\n",
            "  0.15688731  0.5408655   0.21149793  0.14527581  0.0982986   0.32323299\n",
            "  0.54809577  0.06458631  0.03366775  0.14525553  0.13032215  0.30556348\n",
            "  0.66385621 -0.09604011  0.50008013  1.00425545  0.26962279  0.2992481\n",
            "  0.38716626 -0.02123228  0.46652405  0.15720448  0.4560866   0.22429458\n",
            "  1.01477994  0.10859284 -0.05747816  0.54927077  0.0067986   0.1453319\n",
            "  1.05691526  0.66396726  0.38730769  0.60872313  0.62123268  0.1851527\n",
            "  0.81863867  0.10834397  0.21773503  0.58901507  0.36204103  0.06524152\n",
            "  0.96938841  0.67041979  0.10864192  0.12773903  0.11077831  0.10853969\n",
            " -0.08205028  0.85382244  0.86362613  0.28573283  0.71046594  0.75421781\n",
            "  0.28250422  0.37702706  1.00887486  0.10885588  1.01631257  0.22506002\n",
            "  0.83130164  0.10053125  0.26118679  0.223861    0.22126023  0.45629378\n",
            "  0.15872739  0.10029117  0.37982681  0.09300095  0.60364292  0.69370571\n",
            "  0.32276711  0.62178334  0.62484553  0.24756012  0.39819409  0.86667128\n",
            "  0.3110809   0.4563285   0.59393826  0.31698462  0.9537733   0.14014688\n",
            "  0.10508702  0.10884955  0.38417696  0.58139988  0.36343014  0.39447314\n",
            "  0.6218587   0.29367961  0.86668583  0.10934351  0.75265678  0.16382548\n",
            "  0.84149904  0.16374066  0.83635304  0.58490284  0.15202414  0.62191644\n",
            "  0.05227727  0.24775875  0.39846734  1.02400292  0.1200723   0.10941438\n",
            "  0.38095471  0.16975943  0.23577837  0.16951969  0.80291988  0.85527906\n",
            "  0.82488147  0.6745685   0.35186739  0.10951883  0.03264603  0.36129547\n",
            "  0.84607949  0.15748906  0.7638293   0.58168628  0.88940775  0.16995032\n",
            "  0.47867661  0.14705527  0.09721365  0.10950062  0.10959335  0.12307526\n",
            "  0.86051583  0.16409575  0.03382223  0.16414868  0.76586328  0.73277445\n",
            "  0.28324437  0.10974451  0.44630977  0.10962185  0.62245459  0.1880571\n",
            "  0.38506208  0.10974489  0.99736814  0.5823608   0.1095583   0.8169628\n",
            "  0.29418803  0.18689866  0.24357719  0.32945882  0.6655438   0.22246618\n",
            "  0.62247208  0.68725443  0.73043038  0.0760403   0.10968986  0.47412905\n",
            "  0.10970147  0.11005068  0.46291264  0.62383352  0.10974188  0.28364681\n",
            "  0.07706079  0.13514228  0.89511601  0.02931789  0.46703203  0.11754526\n",
            "  0.0999024   0.28297078  0.19064235  0.14728668  0.62269433  0.70892638\n",
            "  0.42761411  0.26365302  0.27686119  0.49564934  0.18259788  0.15852044\n",
            "  0.11008679  0.58327239  0.8702122   0.70075398  0.3071454   0.34746295\n",
            "  0.12948403  0.2520945   0.13534493  0.14100295  0.30743242  0.44183532\n",
            "  0.99556442  0.15271616  0.80656886  0.38727325  0.25202144  0.33687021\n",
            "  0.66063608  0.40797705  0.11014424  0.62923028  0.12966286  0.45934956\n",
            "  0.27233337  0.01884657  0.3211106   0.11021669  0.35356872  0.1002357\n",
            " -0.0876339   0.98846862  0.05000376  0.70689605  0.30767488  0.57752729\n",
            "  0.31964848  0.79425931  0.8794051   0.31256595  0.37971788  0.11082801\n",
            "  0.72199055  0.34208332  0.72593088  0.11066708  0.1106238   0.5848513\n",
            " -0.1570527   0.77883913  0.79439064  0.13027258  0.97056706  0.42521451\n",
            "  0.0702539   0.68511385  0.8779516   0.29064159  0.2934425   1.01128177\n",
            "  0.33738679  0.20222619  0.79120775  0.98192488  0.58594265  0.33673541\n",
            "  0.32286401  0.05605896  0.11084605  0.13600423  0.62627102  0.64992855\n",
            "  0.28291243  0.77060271  0.14775852  0.12601324  0.16538864  0.10929336\n",
            "  0.52890616  0.83468064  0.1774904   0.18377514 -0.02535217  1.01387735\n",
            "  0.14764264  0.82558234  0.15962657  0.10675872  1.02999391  0.19783248\n",
            "  1.01338361  0.5451082   0.34118098  0.34386774  0.28164621  0.35597913\n",
            "  0.62373292  0.72316017  0.62376518  0.91483837  0.63714358  0.11130338\n",
            "  0.95415243  0.06267008  0.11133368  0.05398783]\n"
          ],
          "name": "stdout"
        }
      ]
    },
    {
      "cell_type": "code",
      "metadata": {
        "colab": {
          "base_uri": "https://localhost:8080/"
        },
        "id": "ViblSaHPYR2q",
        "outputId": "33808a1a-43ca-4595-a976-01d34727b8e4"
      },
      "source": [
        "for i in range(0,len(y_pred)):\n",
        "  if y_pred[i] < 0.5:\n",
        "    y_pred[i]= int(0)\n",
        "  else:\n",
        "    y_pred[i] = int(1)\n",
        "print(y_pred)"
      ],
      "execution_count": 103,
      "outputs": [
        {
          "output_type": "stream",
          "text": [
            "[0. 0. 0. 0. 1. 0. 1. 0. 1. 0. 0. 0. 1. 0. 1. 1. 0. 0. 1. 1. 0. 0. 1. 1.\n",
            " 1. 0. 1. 0. 0. 0. 0. 0. 1. 1. 0. 0. 1. 1. 0. 0. 0. 0. 0. 1. 1. 0. 0. 0.\n",
            " 1. 1. 0. 0. 1. 1. 0. 0. 0. 0. 0. 1. 0. 0. 0. 1. 1. 1. 1. 0. 0. 1. 1. 0.\n",
            " 1. 0. 1. 1. 0. 1. 0. 1. 0. 0. 0. 0. 0. 0. 1. 1. 1. 0. 1. 0. 1. 0. 0. 0.\n",
            " 1. 0. 1. 0. 1. 0. 0. 0. 1. 0. 0. 0. 0. 0. 0. 1. 1. 1. 1. 0. 0. 1. 0. 1.\n",
            " 1. 0. 1. 0. 0. 1. 0. 1. 0. 0. 0. 0. 1. 0. 0. 0. 0. 0. 1. 0. 1. 1. 0. 0.\n",
            " 0. 0. 0. 0. 0. 0. 1. 0. 0. 1. 0. 0. 1. 1. 0. 1. 1. 0. 1. 0. 0. 1. 0. 0.\n",
            " 1. 1. 0. 0. 0. 0. 0. 1. 1. 0. 1. 1. 0. 0. 1. 0. 1. 0. 1. 0. 0. 0. 0. 0.\n",
            " 0. 0. 0. 0. 1. 1. 0. 1. 1. 0. 0. 1. 0. 0. 1. 0. 1. 0. 0. 0. 0. 1. 0. 0.\n",
            " 1. 0. 1. 0. 1. 0. 1. 0. 1. 1. 0. 1. 0. 0. 0. 1. 0. 0. 0. 0. 0. 0. 1. 1.\n",
            " 1. 1. 0. 0. 0. 0. 1. 0. 1. 1. 1. 0. 0. 0. 0. 0. 0. 0. 1. 0. 0. 0. 1. 1.\n",
            " 0. 0. 0. 0. 1. 0. 0. 0. 1. 1. 0. 1. 0. 0. 0. 0. 1. 0. 1. 1. 1. 0. 0. 0.\n",
            " 0. 0. 0. 1. 0. 0. 0. 0. 1. 0. 0. 0. 0. 0. 0. 0. 1. 1. 0. 0. 0. 0. 0. 0.\n",
            " 0. 1. 1. 1. 0. 0. 0. 0. 0. 0. 0. 0. 1. 0. 1. 0. 0. 0. 1. 0. 0. 1. 0. 0.\n",
            " 0. 0. 0. 0. 0. 0. 0. 1. 0. 1. 0. 1. 0. 1. 1. 0. 0. 0. 1. 0. 1. 0. 0. 1.\n",
            " 0. 1. 1. 0. 1. 0. 0. 1. 1. 0. 0. 1. 0. 0. 1. 1. 1. 0. 0. 0. 0. 0. 1. 1.\n",
            " 0. 1. 0. 0. 0. 0. 1. 1. 0. 0. 0. 1. 0. 1. 0. 0. 1. 0. 1. 1. 0. 0. 0. 0.\n",
            " 1. 1. 1. 1. 1. 0. 1. 0. 0. 0.]\n"
          ],
          "name": "stdout"
        }
      ]
    },
    {
      "cell_type": "code",
      "metadata": {
        "id": "SmHqBIZKi73c"
      },
      "source": [
        "new_set = []"
      ],
      "execution_count": 104,
      "outputs": []
    },
    {
      "cell_type": "code",
      "metadata": {
        "colab": {
          "base_uri": "https://localhost:8080/"
        },
        "id": "KX2w_KMLkeZU",
        "outputId": "15548348-b191-4344-d18c-beebeb5ed6fd"
      },
      "source": [
        "for i in range(0,len(y_pred)):\n",
        "  n_list = []\n",
        "  n_list.append(X_test[:,2][i])\n",
        "  n_list.append(y_pred[i])\n",
        "  new_set.append(n_list)\n",
        "print(new_set)"
      ],
      "execution_count": 105,
      "outputs": [
        {
          "output_type": "stream",
          "text": [
            "[[892, 0.0], [893, 0.0], [894, 0.0], [895, 0.0], [896, 1.0], [897, 0.0], [898, 1.0], [899, 0.0], [900, 1.0], [901, 0.0], [902, 0.0], [903, 0.0], [904, 1.0], [905, 0.0], [906, 1.0], [907, 1.0], [908, 0.0], [909, 0.0], [910, 1.0], [911, 1.0], [912, 0.0], [913, 0.0], [914, 1.0], [915, 1.0], [916, 1.0], [917, 0.0], [918, 1.0], [919, 0.0], [920, 0.0], [921, 0.0], [922, 0.0], [923, 0.0], [924, 1.0], [925, 1.0], [926, 0.0], [927, 0.0], [928, 1.0], [929, 1.0], [930, 0.0], [931, 0.0], [932, 0.0], [933, 0.0], [934, 0.0], [935, 1.0], [936, 1.0], [937, 0.0], [938, 0.0], [939, 0.0], [940, 1.0], [941, 1.0], [942, 0.0], [943, 0.0], [944, 1.0], [945, 1.0], [946, 0.0], [947, 0.0], [948, 0.0], [949, 0.0], [950, 0.0], [951, 1.0], [952, 0.0], [953, 0.0], [954, 0.0], [955, 1.0], [956, 1.0], [957, 1.0], [958, 1.0], [959, 0.0], [960, 0.0], [961, 1.0], [962, 1.0], [963, 0.0], [964, 1.0], [965, 0.0], [966, 1.0], [967, 1.0], [968, 0.0], [969, 1.0], [970, 0.0], [971, 1.0], [972, 0.0], [973, 0.0], [974, 0.0], [975, 0.0], [976, 0.0], [977, 0.0], [978, 1.0], [979, 1.0], [980, 1.0], [981, 0.0], [982, 1.0], [983, 0.0], [984, 1.0], [985, 0.0], [986, 0.0], [987, 0.0], [988, 1.0], [989, 0.0], [990, 1.0], [991, 0.0], [992, 1.0], [993, 0.0], [994, 0.0], [995, 0.0], [996, 1.0], [997, 0.0], [998, 0.0], [999, 0.0], [1000, 0.0], [1001, 0.0], [1002, 0.0], [1003, 1.0], [1004, 1.0], [1005, 1.0], [1006, 1.0], [1007, 0.0], [1008, 0.0], [1009, 1.0], [1010, 0.0], [1011, 1.0], [1012, 1.0], [1013, 0.0], [1014, 1.0], [1015, 0.0], [1016, 0.0], [1017, 1.0], [1018, 0.0], [1019, 1.0], [1020, 0.0], [1021, 0.0], [1022, 0.0], [1023, 0.0], [1024, 1.0], [1025, 0.0], [1026, 0.0], [1027, 0.0], [1028, 0.0], [1029, 0.0], [1030, 1.0], [1031, 0.0], [1032, 1.0], [1033, 1.0], [1034, 0.0], [1035, 0.0], [1036, 0.0], [1037, 0.0], [1038, 0.0], [1039, 0.0], [1040, 0.0], [1041, 0.0], [1042, 1.0], [1043, 0.0], [1044, 0.0], [1045, 1.0], [1046, 0.0], [1047, 0.0], [1048, 1.0], [1049, 1.0], [1050, 0.0], [1051, 1.0], [1052, 1.0], [1053, 0.0], [1054, 1.0], [1055, 0.0], [1056, 0.0], [1057, 1.0], [1058, 0.0], [1059, 0.0], [1060, 1.0], [1061, 1.0], [1062, 0.0], [1063, 0.0], [1064, 0.0], [1065, 0.0], [1066, 0.0], [1067, 1.0], [1068, 1.0], [1069, 0.0], [1070, 1.0], [1071, 1.0], [1072, 0.0], [1073, 0.0], [1074, 1.0], [1075, 0.0], [1076, 1.0], [1077, 0.0], [1078, 1.0], [1079, 0.0], [1080, 0.0], [1081, 0.0], [1082, 0.0], [1083, 0.0], [1084, 0.0], [1085, 0.0], [1086, 0.0], [1087, 0.0], [1088, 1.0], [1089, 1.0], [1090, 0.0], [1091, 1.0], [1092, 1.0], [1093, 0.0], [1094, 0.0], [1095, 1.0], [1096, 0.0], [1097, 0.0], [1098, 1.0], [1099, 0.0], [1100, 1.0], [1101, 0.0], [1102, 0.0], [1103, 0.0], [1104, 0.0], [1105, 1.0], [1106, 0.0], [1107, 0.0], [1108, 1.0], [1109, 0.0], [1110, 1.0], [1111, 0.0], [1112, 1.0], [1113, 0.0], [1114, 1.0], [1115, 0.0], [1116, 1.0], [1117, 1.0], [1118, 0.0], [1119, 1.0], [1120, 0.0], [1121, 0.0], [1122, 0.0], [1123, 1.0], [1124, 0.0], [1125, 0.0], [1126, 0.0], [1127, 0.0], [1128, 0.0], [1129, 0.0], [1130, 1.0], [1131, 1.0], [1132, 1.0], [1133, 1.0], [1134, 0.0], [1135, 0.0], [1136, 0.0], [1137, 0.0], [1138, 1.0], [1139, 0.0], [1140, 1.0], [1141, 1.0], [1142, 1.0], [1143, 0.0], [1144, 0.0], [1145, 0.0], [1146, 0.0], [1147, 0.0], [1148, 0.0], [1149, 0.0], [1150, 1.0], [1151, 0.0], [1152, 0.0], [1153, 0.0], [1154, 1.0], [1155, 1.0], [1156, 0.0], [1157, 0.0], [1158, 0.0], [1159, 0.0], [1160, 1.0], [1161, 0.0], [1162, 0.0], [1163, 0.0], [1164, 1.0], [1165, 1.0], [1166, 0.0], [1167, 1.0], [1168, 0.0], [1169, 0.0], [1170, 0.0], [1171, 0.0], [1172, 1.0], [1173, 0.0], [1174, 1.0], [1175, 1.0], [1176, 1.0], [1177, 0.0], [1178, 0.0], [1179, 0.0], [1180, 0.0], [1181, 0.0], [1182, 0.0], [1183, 1.0], [1184, 0.0], [1185, 0.0], [1186, 0.0], [1187, 0.0], [1188, 1.0], [1189, 0.0], [1190, 0.0], [1191, 0.0], [1192, 0.0], [1193, 0.0], [1194, 0.0], [1195, 0.0], [1196, 1.0], [1197, 1.0], [1198, 0.0], [1199, 0.0], [1200, 0.0], [1201, 0.0], [1202, 0.0], [1203, 0.0], [1204, 0.0], [1205, 1.0], [1206, 1.0], [1207, 1.0], [1208, 0.0], [1209, 0.0], [1210, 0.0], [1211, 0.0], [1212, 0.0], [1213, 0.0], [1214, 0.0], [1215, 0.0], [1216, 1.0], [1217, 0.0], [1218, 1.0], [1219, 0.0], [1220, 0.0], [1221, 0.0], [1222, 1.0], [1223, 0.0], [1224, 0.0], [1225, 1.0], [1226, 0.0], [1227, 0.0], [1228, 0.0], [1229, 0.0], [1230, 0.0], [1231, 0.0], [1232, 0.0], [1233, 0.0], [1234, 0.0], [1235, 1.0], [1236, 0.0], [1237, 1.0], [1238, 0.0], [1239, 1.0], [1240, 0.0], [1241, 1.0], [1242, 1.0], [1243, 0.0], [1244, 0.0], [1245, 0.0], [1246, 1.0], [1247, 0.0], [1248, 1.0], [1249, 0.0], [1250, 0.0], [1251, 1.0], [1252, 0.0], [1253, 1.0], [1254, 1.0], [1255, 0.0], [1256, 1.0], [1257, 0.0], [1258, 0.0], [1259, 1.0], [1260, 1.0], [1261, 0.0], [1262, 0.0], [1263, 1.0], [1264, 0.0], [1265, 0.0], [1266, 1.0], [1267, 1.0], [1268, 1.0], [1269, 0.0], [1270, 0.0], [1271, 0.0], [1272, 0.0], [1273, 0.0], [1274, 1.0], [1275, 1.0], [1276, 0.0], [1277, 1.0], [1278, 0.0], [1279, 0.0], [1280, 0.0], [1281, 0.0], [1282, 1.0], [1283, 1.0], [1284, 0.0], [1285, 0.0], [1286, 0.0], [1287, 1.0], [1288, 0.0], [1289, 1.0], [1290, 0.0], [1291, 0.0], [1292, 1.0], [1293, 0.0], [1294, 1.0], [1295, 1.0], [1296, 0.0], [1297, 0.0], [1298, 0.0], [1299, 0.0], [1300, 1.0], [1301, 1.0], [1302, 1.0], [1303, 1.0], [1304, 1.0], [1305, 0.0], [1306, 1.0], [1307, 0.0], [1308, 0.0], [1309, 0.0]]\n"
          ],
          "name": "stdout"
        }
      ]
    },
    {
      "cell_type": "code",
      "metadata": {
        "id": "jCXbQGt0vhY0"
      },
      "source": [
        "df = pd. DataFrame(new_set)"
      ],
      "execution_count": 106,
      "outputs": []
    },
    {
      "cell_type": "code",
      "metadata": {
        "colab": {
          "base_uri": "https://localhost:8080/"
        },
        "id": "n9iz5w5_wcpj",
        "outputId": "813aa549-ab33-4b81-b82b-0d6637b9ba5a"
      },
      "source": [
        "print(df)"
      ],
      "execution_count": 107,
      "outputs": [
        {
          "output_type": "stream",
          "text": [
            "        0    1\n",
            "0     892  0.0\n",
            "1     893  0.0\n",
            "2     894  0.0\n",
            "3     895  0.0\n",
            "4     896  1.0\n",
            "..    ...  ...\n",
            "413  1305  0.0\n",
            "414  1306  1.0\n",
            "415  1307  0.0\n",
            "416  1308  0.0\n",
            "417  1309  0.0\n",
            "\n",
            "[418 rows x 2 columns]\n"
          ],
          "name": "stdout"
        }
      ]
    },
    {
      "cell_type": "code",
      "metadata": {
        "id": "UT7R4GdZxtY9"
      },
      "source": [
        "df.columns = ['PassengerId', 'Survived']"
      ],
      "execution_count": 108,
      "outputs": []
    },
    {
      "cell_type": "code",
      "metadata": {
        "colab": {
          "base_uri": "https://localhost:8080/",
          "height": 203
        },
        "id": "NvMtdg2ux2Sl",
        "outputId": "b73659d3-0011-4d1a-f025-c611833152b8"
      },
      "source": [
        "df.head()"
      ],
      "execution_count": 109,
      "outputs": [
        {
          "output_type": "execute_result",
          "data": {
            "text/html": [
              "<div>\n",
              "<style scoped>\n",
              "    .dataframe tbody tr th:only-of-type {\n",
              "        vertical-align: middle;\n",
              "    }\n",
              "\n",
              "    .dataframe tbody tr th {\n",
              "        vertical-align: top;\n",
              "    }\n",
              "\n",
              "    .dataframe thead th {\n",
              "        text-align: right;\n",
              "    }\n",
              "</style>\n",
              "<table border=\"1\" class=\"dataframe\">\n",
              "  <thead>\n",
              "    <tr style=\"text-align: right;\">\n",
              "      <th></th>\n",
              "      <th>PassengerId</th>\n",
              "      <th>Survived</th>\n",
              "    </tr>\n",
              "  </thead>\n",
              "  <tbody>\n",
              "    <tr>\n",
              "      <th>0</th>\n",
              "      <td>892</td>\n",
              "      <td>0.0</td>\n",
              "    </tr>\n",
              "    <tr>\n",
              "      <th>1</th>\n",
              "      <td>893</td>\n",
              "      <td>0.0</td>\n",
              "    </tr>\n",
              "    <tr>\n",
              "      <th>2</th>\n",
              "      <td>894</td>\n",
              "      <td>0.0</td>\n",
              "    </tr>\n",
              "    <tr>\n",
              "      <th>3</th>\n",
              "      <td>895</td>\n",
              "      <td>0.0</td>\n",
              "    </tr>\n",
              "    <tr>\n",
              "      <th>4</th>\n",
              "      <td>896</td>\n",
              "      <td>1.0</td>\n",
              "    </tr>\n",
              "  </tbody>\n",
              "</table>\n",
              "</div>"
            ],
            "text/plain": [
              "   PassengerId  Survived\n",
              "0          892       0.0\n",
              "1          893       0.0\n",
              "2          894       0.0\n",
              "3          895       0.0\n",
              "4          896       1.0"
            ]
          },
          "metadata": {
            "tags": []
          },
          "execution_count": 109
        }
      ]
    },
    {
      "cell_type": "code",
      "metadata": {
        "colab": {
          "base_uri": "https://localhost:8080/"
        },
        "id": "z6t84_cIweCp",
        "outputId": "8bc96bb3-7eeb-47be-e7aa-f888aceac15c"
      },
      "source": [
        "type(y_pred[0])"
      ],
      "execution_count": 110,
      "outputs": [
        {
          "output_type": "execute_result",
          "data": {
            "text/plain": [
              "numpy.float64"
            ]
          },
          "metadata": {
            "tags": []
          },
          "execution_count": 110
        }
      ]
    },
    {
      "cell_type": "code",
      "metadata": {
        "id": "v7WGsdYXw_ib"
      },
      "source": [
        "df['Survived'] = df['Survived'].astype(int)"
      ],
      "execution_count": 111,
      "outputs": []
    },
    {
      "cell_type": "code",
      "metadata": {
        "id": "JhVGuCJSyFaE"
      },
      "source": [
        "df.to_csv ('predictions.csv', index = False, header=True)"
      ],
      "execution_count": 113,
      "outputs": []
    }
  ]
}